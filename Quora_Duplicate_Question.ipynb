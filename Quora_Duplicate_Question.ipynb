{
 "cells": [
  {
   "cell_type": "markdown",
   "metadata": {},
   "source": [
    "# Quora Question Pair Similarity Detection using NLP and Machine Learning\n",
    " Identifying questions on quora with same intent"
   ]
  },
  {
   "cell_type": "markdown",
   "metadata": {},
   "source": [
    "## Problem Statement\n",
    "Quora, a popular knowledge-sharing platform, faces a challenge with duplicate questions. This issue can lead to:\n",
    "\n",
    "1. Users spending more time searching for answers\n",
    "2. Writers answering similar questions multiple times\n",
    "\n",
    "The goal is to improve this system by developing more advanced natural language processing techniques to classify question pairs as duplicates or not.\n",
    "\n",
    "Benefits of solving this problem include:\n",
    "\n",
    "- Enhanced user experience for question askers and answerers\n",
    "- Easier access to high-quality answers\n",
    "- More efficient knowledge sharing\n",
    "\n",
    "This challenge invites participants to create innovative solutions that can accurately identify duplicate questions, ultimately improving Quora's ability to connect people with the information they seek."
   ]
  },
  {
   "cell_type": "markdown",
   "metadata": {},
   "source": [
    " Data is taken from kaggle competition (2017) : https://kaggle.com/competitions/quora-question-pairs"
   ]
  },
  {
   "cell_type": "markdown",
   "metadata": {},
   "source": [
    "## Data Details\n",
    " 1. id - the id of a training set question pair\n",
    " 2. qid1, qid2 - unique ids of each question (only available in train.csv)\n",
    " 3. question1, question2 - the full text of each question\n",
    " 4. is_duplicate - the target variable, set to 1 if question1 and question2 have essentially the same meaning, and 0 otherwise."
   ]
  },
  {
   "cell_type": "markdown",
   "metadata": {},
   "source": [
    "## Importing Needed Libraries."
   ]
  },
  {
   "cell_type": "code",
   "execution_count": 1,
   "metadata": {},
   "outputs": [
    {
     "name": "stderr",
     "output_type": "stream",
     "text": [
      "/home/ubuntu/Final_Project/final/lib/python3.12/site-packages/fuzzywuzzy/fuzz.py:11: UserWarning: Using slow pure-python SequenceMatcher. Install python-Levenshtein to remove this warning\n",
      "  warnings.warn('Using slow pure-python SequenceMatcher. Install python-Levenshtein to remove this warning')\n",
      "/home/ubuntu/Final_Project/final/lib/python3.12/site-packages/tqdm/auto.py:21: TqdmWarning: IProgress not found. Please update jupyter and ipywidgets. See https://ipywidgets.readthedocs.io/en/stable/user_install.html\n",
      "  from .autonotebook import tqdm as notebook_tqdm\n",
      "2024-12-06 23:58:23.597125: E external/local_xla/xla/stream_executor/cuda/cuda_fft.cc:477] Unable to register cuFFT factory: Attempting to register factory for plugin cuFFT when one has already been registered\n",
      "WARNING: All log messages before absl::InitializeLog() is called are written to STDERR\n",
      "E0000 00:00:1733529503.830758    1923 cuda_dnn.cc:8310] Unable to register cuDNN factory: Attempting to register factory for plugin cuDNN when one has already been registered\n",
      "E0000 00:00:1733529503.903571    1923 cuda_blas.cc:1418] Unable to register cuBLAS factory: Attempting to register factory for plugin cuBLAS when one has already been registered\n",
      "2024-12-06 23:58:24.549666: I tensorflow/core/platform/cpu_feature_guard.cc:210] This TensorFlow binary is optimized to use available CPU instructions in performance-critical operations.\n",
      "To enable the following instructions: AVX2 FMA, in other operations, rebuild TensorFlow with the appropriate compiler flags.\n",
      "[nltk_data] Downloading package stopwords to /home/ubuntu/nltk_data...\n",
      "[nltk_data]   Package stopwords is already up-to-date!\n",
      "[nltk_data] Downloading package wordnet to /home/ubuntu/nltk_data...\n",
      "[nltk_data]   Package wordnet is already up-to-date!\n",
      "[nltk_data] Downloading package averaged_perceptron_tagger_eng to\n",
      "[nltk_data]     /home/ubuntu/nltk_data...\n",
      "[nltk_data]   Package averaged_perceptron_tagger_eng is already up-to-\n",
      "[nltk_data]       date!\n"
     ]
    }
   ],
   "source": [
    "import os\n",
    "import sys\n",
    "import numpy as np\n",
    "import pandas as pd\n",
    "import matplotlib.pyplot as plt\n",
    "import seaborn as sns\n",
    "import re\n",
    "import time\n",
    "import warnings\n",
    "import nltk\n",
    "from nltk.corpus import stopwords, wordnet\n",
    "from nltk.stem import WordNetLemmatizer\n",
    "from nltk import pos_tag\n",
    "from nltk.util import ngrams\n",
    "from nltk.tokenize import word_tokenize\n",
    "from fuzzywuzzy import fuzz\n",
    "import distance\n",
    "from nltk.metrics import jaccard_distance\n",
    "from sklearn.preprocessing import normalize\n",
    "from sklearn.feature_extraction.text import CountVectorizer, TfidfVectorizer\n",
    "from sklearn.model_selection import train_test_split, RandomizedSearchCV\n",
    "from sklearn.linear_model import LogisticRegression\n",
    "from sklearn.metrics import accuracy_score, confusion_matrix, ConfusionMatrixDisplay\n",
    "from xgboost import XGBClassifier\n",
    "from tqdm import tqdm\n",
    "import spacy\n",
    "from spacy.cli import download\n",
    "import torch\n",
    "from torch import nn\n",
    "import torch.nn.functional as F\n",
    "from transformers import BertModel, BertTokenizer, TFBertModel\n",
    "from torch.optim.lr_scheduler import ReduceLROnPlateau\n",
    "from nlpaug.augmenter.word import SynonymAug\n",
    "nltk.download('stopwords')\n",
    "nltk.download('wordnet')\n",
    "nltk.download('averaged_perceptron_tagger_eng')\n",
    "from nltk.corpus import stopwords\n",
    "from collections import Counter"
   ]
  },
  {
   "cell_type": "markdown",
   "metadata": {},
   "source": [
    "## Load the Data and Perform Data Analysis"
   ]
  },
  {
   "cell_type": "code",
   "execution_count": 3,
   "metadata": {},
   "outputs": [],
   "source": [
    "data = pd.read_csv('train.csv')"
   ]
  },
  {
   "cell_type": "markdown",
   "metadata": {},
   "source": [
    " First 5 rows of data"
   ]
  },
  {
   "cell_type": "code",
   "execution_count": 3,
   "metadata": {},
   "outputs": [
    {
     "data": {
      "text/html": [
       "<div>\n",
       "<style scoped>\n",
       "    .dataframe tbody tr th:only-of-type {\n",
       "        vertical-align: middle;\n",
       "    }\n",
       "\n",
       "    .dataframe tbody tr th {\n",
       "        vertical-align: top;\n",
       "    }\n",
       "\n",
       "    .dataframe thead th {\n",
       "        text-align: right;\n",
       "    }\n",
       "</style>\n",
       "<table border=\"1\" class=\"dataframe\">\n",
       "  <thead>\n",
       "    <tr style=\"text-align: right;\">\n",
       "      <th></th>\n",
       "      <th>id</th>\n",
       "      <th>qid1</th>\n",
       "      <th>qid2</th>\n",
       "      <th>question1</th>\n",
       "      <th>question2</th>\n",
       "      <th>is_duplicate</th>\n",
       "    </tr>\n",
       "  </thead>\n",
       "  <tbody>\n",
       "    <tr>\n",
       "      <th>0</th>\n",
       "      <td>0</td>\n",
       "      <td>1</td>\n",
       "      <td>2</td>\n",
       "      <td>What is the step by step guide to invest in sh...</td>\n",
       "      <td>What is the step by step guide to invest in sh...</td>\n",
       "      <td>0</td>\n",
       "    </tr>\n",
       "    <tr>\n",
       "      <th>1</th>\n",
       "      <td>1</td>\n",
       "      <td>3</td>\n",
       "      <td>4</td>\n",
       "      <td>What is the story of Kohinoor (Koh-i-Noor) Dia...</td>\n",
       "      <td>What would happen if the Indian government sto...</td>\n",
       "      <td>0</td>\n",
       "    </tr>\n",
       "    <tr>\n",
       "      <th>2</th>\n",
       "      <td>2</td>\n",
       "      <td>5</td>\n",
       "      <td>6</td>\n",
       "      <td>How can I increase the speed of my internet co...</td>\n",
       "      <td>How can Internet speed be increased by hacking...</td>\n",
       "      <td>0</td>\n",
       "    </tr>\n",
       "    <tr>\n",
       "      <th>3</th>\n",
       "      <td>3</td>\n",
       "      <td>7</td>\n",
       "      <td>8</td>\n",
       "      <td>Why am I mentally very lonely? How can I solve...</td>\n",
       "      <td>Find the remainder when [math]23^{24}[/math] i...</td>\n",
       "      <td>0</td>\n",
       "    </tr>\n",
       "    <tr>\n",
       "      <th>4</th>\n",
       "      <td>4</td>\n",
       "      <td>9</td>\n",
       "      <td>10</td>\n",
       "      <td>Which one dissolve in water quikly sugar, salt...</td>\n",
       "      <td>Which fish would survive in salt water?</td>\n",
       "      <td>0</td>\n",
       "    </tr>\n",
       "  </tbody>\n",
       "</table>\n",
       "</div>"
      ],
      "text/plain": [
       "   id  qid1  qid2                                          question1  \\\n",
       "0   0     1     2  What is the step by step guide to invest in sh...   \n",
       "1   1     3     4  What is the story of Kohinoor (Koh-i-Noor) Dia...   \n",
       "2   2     5     6  How can I increase the speed of my internet co...   \n",
       "3   3     7     8  Why am I mentally very lonely? How can I solve...   \n",
       "4   4     9    10  Which one dissolve in water quikly sugar, salt...   \n",
       "\n",
       "                                           question2  is_duplicate  \n",
       "0  What is the step by step guide to invest in sh...             0  \n",
       "1  What would happen if the Indian government sto...             0  \n",
       "2  How can Internet speed be increased by hacking...             0  \n",
       "3  Find the remainder when [math]23^{24}[/math] i...             0  \n",
       "4            Which fish would survive in salt water?             0  "
      ]
     },
     "execution_count": 3,
     "metadata": {},
     "output_type": "execute_result"
    }
   ],
   "source": [
    "data.head(5)"
   ]
  },
  {
   "cell_type": "code",
   "execution_count": 85,
   "metadata": {},
   "outputs": [
    {
     "name": "stdout",
     "output_type": "stream",
     "text": [
      "Number of Observations in data are 404290\n"
     ]
    }
   ],
   "source": [
    "print(f\"Number of Observations in data are {data.shape[0]}\")"
   ]
  },
  {
   "cell_type": "code",
   "execution_count": null,
   "metadata": {},
   "outputs": [
    {
     "data": {
      "image/png": "[encoded data removed]",
      "text/plain": [
       "<Figure size 1000x600 with 1 Axes>"
      ]
     },
     "metadata": {},
     "output_type": "display_data"
    }
   ],
   "source": [
    "data.replace('', np.nan, inplace=True)\n",
    "\n",
    "# Count missing (NaN) values per column\n",
    "missing_values_count = data.isnull().sum()\n",
    "\n",
    "# Plot missing values\n",
    "plt.figure(figsize=(10, 6))\n",
    "missing_values_count.plot(kind='bar', color='skyblue')\n",
    "plt.title('Number of Missing Values per Column', fontsize=16)\n",
    "plt.xlabel('Columns', fontsize=14)\n",
    "plt.ylabel('Number of Missing Values', fontsize=14)\n",
    "plt.xticks(rotation=45, ha='right')\n",
    "plt.tight_layout() \n",
    "plt.show()"
   ]
  },
  {
   "cell_type": "markdown",
   "metadata": {},
   "source": [
    " Note: There are two null values in question 2 and one null value in question 1, dropping those rows."
   ]
  },
  {
   "cell_type": "code",
   "execution_count": 87,
   "metadata": {},
   "outputs": [
    {
     "name": "stdout",
     "output_type": "stream",
     "text": [
      "Number of rows dropped: 3\n"
     ]
    }
   ],
   "source": [
    "rows_before_drop = len(data)\n",
    "data = data.dropna()\n",
    "rows_after_drop = len(data)\n",
    "rows_dropped = rows_before_drop - rows_after_drop\n",
    "print(\"Number of rows dropped:\", rows_dropped)"
   ]
  },
  {
   "cell_type": "markdown",
   "metadata": {},
   "source": [
    "## Distribution of data points among output classes (Similar and Non Similar Questions)\n",
    " Check for Balance of Data (Ouput Column: is_duplicate)"
   ]
  },
  {
   "cell_type": "markdown",
   "metadata": {},
   "source": [
    " Checking for Duplicates"
   ]
  },
  {
   "cell_type": "code",
   "execution_count": 88,
   "metadata": {},
   "outputs": [
    {
     "name": "stdout",
     "output_type": "stream",
     "text": [
      "Rows where qid1 and qid2 are the same:\n",
      "Empty DataFrame\n",
      "Columns: [id, qid1, qid2, question1, question2, is_duplicate]\n",
      "Index: []\n",
      "\n",
      "Rows where qid1 and qid2 are interchanged:\n",
      "Empty DataFrame\n",
      "Columns: [id, qid1, qid2, question1, question2, is_duplicate]\n",
      "Index: []\n",
      "Total number of duplicate pairs: 0\n"
     ]
    }
   ],
   "source": [
    "# Check for rows where qid1 and qid2 are the same\n",
    "same_qid_rows = data[data['qid1'] == data['qid2']]\n",
    "\n",
    "# Check for rows where qid1 and qid2 are interchanged\n",
    "interchanged_qid_rows = data[data.apply(lambda row: row['qid1'] == row['qid2'] or (row['qid1'] == row['qid2'] and row['qid1'] is not None and row['qid2'] is not None), axis=1)]\n",
    "\n",
    "# Display the results\n",
    "print(\"Rows where qid1 and qid2 are the same:\")\n",
    "print(same_qid_rows)\n",
    "\n",
    "print(\"\\nRows where qid1 and qid2 are interchanged:\")\n",
    "print(interchanged_qid_rows)\n",
    "\n",
    "# Count the total number of duplicate pairs\n",
    "total_duplicates = len(same_qid_rows) + len(interchanged_qid_rows)\n",
    "print(\"Total number of duplicate pairs:\", total_duplicates)"
   ]
  },
  {
   "cell_type": "markdown",
   "metadata": {},
   "source": [
    " Number of Occurances of each question."
   ]
  },
  {
   "cell_type": "code",
   "execution_count": 89,
   "metadata": {},
   "outputs": [
    {
     "name": "stdout",
     "output_type": "stream",
     "text": [
      "Total number of Unique Questions: 537929\n",
      "\n",
      "Number of unique questions that appear more than one time: 111778 (20.78%)\n",
      "\n",
      "Max number of times a single question is repeated: 157\n",
      "\n"
     ]
    },
    {
     "data": {
      "image/png": "[encoded data removed]",
      "text/plain": [
       "<Figure size 2000x1000 with 1 Axes>"
      ]
     },
     "metadata": {},
     "output_type": "display_data"
    }
   ],
   "source": [
    "qids = pd.Series(data['qid1'].tolist() + data['qid2'].tolist())\n",
    "unique_qs = len(np.unique(qids))\n",
    "qs_morethan_onetime = np.sum(qids.value_counts() > 1)\n",
    "\n",
    "print('Total number of Unique Questions: {}\\n'.format(unique_qs))\n",
    "print('Number of unique questions that appear more than one time: {} ({}%)\\n'.format(qs_morethan_onetime, round(qs_morethan_onetime/unique_qs*100,2)))\n",
    "print('Max number of times a single question is repeated: {}\\n'.format(max(qids.value_counts())))\n",
    "plt.figure(figsize=(20, 10))\n",
    "\n",
    "counts, bins, _ = plt.hist(qids.value_counts(), bins=160, color='skyblue', edgecolor='black')\n",
    "\n",
    "plt.yscale('log', nonpositive='clip')\n",
    "\n",
    "plt.title('Log-Histogram of question appearance counts', fontsize=16)\n",
    "plt.xlabel('Number of occurrences of question', fontsize=14)\n",
    "plt.ylabel('Number of questions', fontsize=14)\n",
    "\n",
    "max_occurrence = max(qids.value_counts())\n",
    "plt.axvline(x=max_occurrence, color='red', linestyle='--', label=f'Max Occurrence: {max_occurrence}')\n",
    "\n",
    "plt.legend()\n",
    "\n",
    "plt.show()"
   ]
  },
  {
   "cell_type": "markdown",
   "metadata": {},
   "source": [
    " The plot is close to a power-law distribution not exactly power-law but close to it."
   ]
  },
  {
   "cell_type": "markdown",
   "metadata": {},
   "source": [
    "### Top 10 Most asked questions on Quora:"
   ]
  },
  {
   "cell_type": "code",
   "execution_count": 90,
   "metadata": {},
   "outputs": [
    {
     "name": "stdout",
     "output_type": "stream",
     "text": [
      "Top 10 Most Common Questions:\n",
      "What are the best ways to lose weight?                                                                161\n",
      "How can you look at someone's private Instagram account without following them?                       120\n",
      "How can I lose weight quickly?                                                                        111\n",
      "What's the easiest way to make money online?                                                           88\n",
      "Can you see who views your Instagram?                                                                  79\n",
      "What are some things new employees should know going into their first day at AT&T?                     77\n",
      "What do you think of the decision by the Indian Government to demonetize 500 and 1000 rupee notes?     68\n",
      "Which is the best digital marketing course?                                                            66\n",
      "How can you increase your height?                                                                      63\n",
      "How do l see who viewed my videos on Instagram?                                                        61\n",
      "Name: count, dtype: int64\n"
     ]
    }
   ],
   "source": [
    "all_questions = pd.concat([data['question1'], data['question2']], ignore_index=True)\n",
    "top_10_common_questions = all_questions.value_counts().head(10)\n",
    "\n",
    "print(\"Top 10 Most Common Questions:\")\n",
    "print(top_10_common_questions)"
   ]
  },
  {
   "cell_type": "markdown",
   "metadata": {},
   "source": [
    "### Distribution of Question Lengths:"
   ]
  },
  {
   "cell_type": "code",
   "execution_count": 91,
   "metadata": {},
   "outputs": [
    {
     "data": {
      "image/png": "[encoded data removed]",
      "text/plain": [
       "<Figure size 1200x600 with 1 Axes>"
      ]
     },
     "metadata": {},
     "output_type": "display_data"
    }
   ],
   "source": [
    "# Function to count the number of words in a sentence\n",
    "def count_words(sentence):\n",
    "    # Handle the case where the sentence is NaN (missing value)\n",
    "    if pd.isnull(sentence):\n",
    "        return 0\n",
    "    # Count the number of words by splitting the sentence\n",
    "    return len(str(sentence).split())\n",
    "\n",
    "# Plot histograms for question lengths\n",
    "plt.figure(figsize=(12, 6))\n",
    "plt.hist(data['question1'].apply(lambda x: count_words(x)), bins=50, alpha=0.5, label='Question 1', color='blue')\n",
    "plt.hist(data['question2'].apply(lambda x: count_words(x)), bins=50, alpha=0.5, label='Question 2', color='orange')\n",
    "\n",
    "# Title and labels\n",
    "plt.title('Distribution of Question Lengths', fontsize=16)\n",
    "plt.xlabel('Number of words', fontsize=14)\n",
    "plt.ylabel('Frequency', fontsize=14)\n",
    "\n",
    "# Display legend\n",
    "plt.legend()\n",
    "\n",
    "plt.show()"
   ]
  },
  {
   "cell_type": "markdown",
   "metadata": {},
   "source": [
    "## Feature Extraction\n",
    " - ____freq_qid1____ = Frequency of qid1's\n",
    " - ____freq_qid2____ = Frequency of qid2's\n",
    " - ____q1len____ = Length of q1\n",
    " - ____q2len____ = Length of q2\n",
    " - ____q1_n_words____ = Number of words in Question 1\n",
    " - ____q2_n_words____ = Number of words in Question 2\n",
    " - ____word_Common____ = (Number of common unique words in Question 1 and Question 2)\n",
    " - ____word_Total____ =(Total num of words in Question 1 + Total num of words in Question 2)\n",
    " - ____word_share____ = (word_common)/(word_Total)\n",
    " - ____freq_q1+freq_q2____ = sum total of frequency of qid1 and qid2\n",
    " - ____freq_q1-freq_q2____ = absolute difference of frequency of qid1 and qid2"
   ]
  },
  {
   "cell_type": "markdown",
   "metadata": {},
   "source": [
    "### Feature Extraction after pre-processing.\n",
    " Featurization (NLP and Fuzzy Features)\n",
    " Definition:\n",
    " - __Token__: You get a token by splitting sentence a space\n",
    " - __Stop_Word__ : stop words as per NLTK.\n",
    " - __Word__ : A token that is not a stop_word\n",
    " <br>\n",
    " <br>\n",
    " __Features__:\n",
    " - __cwc_min__ :  Ratio of common_word_count to min lenghth of word count of Q1 and Q2 <br>cwc_min = common_word_count / (min(len(q1_words), len(q2_words))\n",
    " <br>\n",
    " <br>\n",
    " - __cwc_max__ :  Ratio of common_word_count to max lenghth of word count of Q1 and Q2 <br>cwc_max = common_word_count / (max(len(q1_words), len(q2_words))\n",
    " <br>\n",
    " <br>\n",
    " - __csc_min__ :  Ratio of common_stop_count to min lenghth of stop count of Q1 and Q2 <br> csc_min = common_stop_count / (min(len(q1_stops), len(q2_stops))\n",
    " <br>\n",
    " <br>\n",
    " - __csc_max__ :  Ratio of common_stop_count to max lenghth of stop count of Q1 and Q2<br>csc_max = common_stop_count / (max(len(q1_stops), len(q2_stops))\n",
    " <br>\n",
    " <br>\n",
    " - __ctc_min__ :  Ratio of common_token_count to min lenghth of token count of Q1 and Q2<br>ctc_min = common_token_count / (min(len(q1_tokens), len(q2_tokens))\n",
    " <br>\n",
    " <br>\n",
    " - __ctc_max__ :  Ratio of common_token_count to max lenghth of token count of Q1 and Q2<br>ctc_max = common_token_count / (max(len(q1_tokens), len(q2_tokens))\n",
    " <br>\n",
    " <br>\n",
    " - __last_word_eq__ :  Check if First word of both questions is equal or not<br>last_word_eq = int(q1_tokens[-1] == q2_tokens[-1])\n",
    " <br>\n",
    " <br>\n",
    " - __first_word_eq__ :  Check if First word of both questions is equal or not<br>first_word_eq = int(q1_tokens[0] == q2_tokens[0])\n",
    " <br>\n",
    " <br>\n",
    " - __abs_len_diff__ :  Abs. length difference<br>abs_len_diff = abs(len(q1_tokens) - len(q2_tokens))\n",
    " <br>\n",
    " <br>\n",
    " - __mean_len__ :  Average Token Length of both Questions<br>mean_len = (len(q1_tokens) + len(q2_tokens))/2\n",
    " <br>\n",
    " <br>\n",
    " - __fuzz_ratio__ :  https://github.com/seatgeek/fuzzywuzzy#usage\n",
    " http://chairnerd.seatgeek.com/fuzzywuzzy-fuzzy-string-matching-in-python/\n",
    " <br>\n",
    " <br>\n",
    " - __fuzz_partial_ratio__ :  https://github.com/seatgeek/fuzzywuzzy#usage\n",
    " http://chairnerd.seatgeek.com/fuzzywuzzy-fuzzy-string-matching-in-python/\n",
    " <br>\n",
    " <br>\n",
    " - __token_sort_ratio__ : https://github.com/seatgeek/fuzzywuzzy#usage\n",
    " http://chairnerd.seatgeek.com/fuzzywuzzy-fuzzy-string-matching-in-python/\n",
    " <br>\n",
    " <br>\n",
    " - __token_set_ratio__ : https://github.com/seatgeek/fuzzywuzzy#usage\n",
    " http://chairnerd.seatgeek.com/fuzzywuzzy-fuzzy-string-matching-in-python/\n",
    " <br>\n",
    " <br>\n",
    " - __longest_substr_ratio__ :  Ratio of length longest common substring to min lenghth of token count of Q1 and Q2<br>longest_substr_ratio = len(longest common substring) / (min(len(q1_tokens), len(q2_tokens)) <br>\n",
    "## Some additional features - Adding some more features which I feel will add good information. <br>\n",
    " ratio_q_lengths:  This feature calculates the ratio of the lengths of the two questions. <br>\n",
    " common_prefix: This feature computes the length of the common prefix (the initial common sequence of characters) between the two questions. <br>\n",
    " common_suffix: This feature calculates the length of the common suffix (the final common sequence of characters) between the two questions. <br>\n",
    " diff_words: This feature calculates the absolute difference in the number of words between the two questions. <br>\n",
    " diff_chars: This feature computes the absolute difference in the number of characters between the two questions. <br>\n",
    " jaccard_similarity: This feature calculates the Jaccard similarity coefficient between the sets of words in the two questions. <br>\n",
    " longest_common_subsequence: This feature computes the length of the longest common subsequence (LCS) between the two questions. <br>"
   ]
  },
  {
   "cell_type": "markdown",
   "metadata": {},
   "source": [
    "## Processing and Extracting Features"
   ]
  },
  {
   "cell_type": "markdown",
   "metadata": {},
   "source": [
    "## Pre-processing of Text"
   ]
  },
  {
   "cell_type": "markdown",
   "metadata": {},
   "source": [
    " - Preprocessing:\n",
    " 1. Removing Punctuations\n",
    " 2. Performing Lemmatization\n",
    " 3. Removing Stopwords\n",
    " 4. Expanding contractions etc."
   ]
  },
  {
   "cell_type": "markdown",
   "metadata": {},
   "source": [
    "## Extracting Features"
   ]
  },
  {
   "cell_type": "code",
   "execution_count": null,
   "metadata": {},
   "outputs": [
    {
     "name": "stderr",
     "output_type": "stream",
     "text": [
      "/tmp/ipykernel_2574/2388236435.py:5: DeprecationWarning: DataFrameGroupBy.apply operated on the grouping columns. This behavior is deprecated, and in a future version of pandas the grouping columns will be excluded from the operation. Either pass `include_groups=False` to exclude the groupings or explicitly select the grouping columns after groupby to silence this warning.\n",
      "  stratified_sample = data.groupby('is_duplicate', group_keys=False).apply(\n"
     ]
    }
   ],
   "source": [
    "class_proportions = data['is_duplicate'].value_counts(normalize=True)\n",
    "sample_size = int(0.3 * len(data))\n",
    "stratified_sample = data.groupby('is_duplicate', group_keys=False).apply(\n",
    "    lambda x: x.sample(n=int(class_proportions[x.name] * sample_size), random_state=42)\n",
    ")\n",
    "stratified_sample = stratified_sample.reset_index(drop=True)"
   ]
  },
  {
   "cell_type": "code",
   "execution_count": null,
   "metadata": {},
   "outputs": [
    {
     "name": "stderr",
     "output_type": "stream",
     "text": [
      "[nltk_data] Downloading package stopwords to /home/ubuntu/nltk_data...\n",
      "[nltk_data]   Package stopwords is already up-to-date!\n",
      "[nltk_data] Downloading package wordnet to /home/ubuntu/nltk_data...\n",
      "[nltk_data]   Package wordnet is already up-to-date!\n",
      "[nltk_data] Downloading package averaged_perceptron_tagger_eng to\n",
      "[nltk_data]     /home/ubuntu/nltk_data...\n",
      "[nltk_data]   Package averaged_perceptron_tagger_eng is already up-to-\n",
      "[nltk_data]       date!\n"
     ]
    }
   ],
   "source": [
    "STOP_WORDS = stopwords.words(\"english\")\n",
    "\n",
    "def get_wordnet_pos(word):\n",
    "    tag = pos_tag([word])[0][1][0].upper()\n",
    "    tag_dict = {\"J\": wordnet.ADJ,\n",
    "                \"N\": wordnet.NOUN,\n",
    "                \"V\": wordnet.VERB,\n",
    "                \"R\": wordnet.ADV}\n",
    "    return tag_dict.get(tag, wordnet.NOUN)\n",
    "\n",
    "def preprocess(x):\n",
    "    x = str(x).lower()\n",
    "    x = x.replace(\",000,000\", \"m\").replace(\",000\", \"k\").replace(\"′\", \"'\").replace(\"'\", \"'\")\\\n",
    "                           .replace(\"won't\", \"will not\").replace(\"cannot\", \"can not\").replace(\"can't\", \"can not\")\\\n",
    "                           .replace(\"n't\", \" not\").replace(\"what's\", \"what is\").replace(\"it's\", \"it is\")\\\n",
    "                           .replace(\"'ve\", \" have\").replace(\"i'm\", \"i am\").replace(\"'re\", \" are\")\\\n",
    "                           .replace(\"he's\", \"he is\").replace(\"she's\", \"she is\").replace(\"'s\", \" own\")\\\n",
    "                           .replace(\"%\", \" percent \").replace(\"₹\", \" rupee \").replace(\"$\", \" dollar \")\\\n",
    "                           .replace(\"€\", \" euro \").replace(\"'ll\", \" will\")\n",
    "    x = re.sub(r\"([0-9]+)000000\", r\"\\1m\", x)\n",
    "    x = re.sub(r\"([0-9]+)000\", r\"\\1k\", x)\n",
    "    \n",
    "    lemmatizer = WordNetLemmatizer()\n",
    "    pattern = re.compile(r'\\W')\n",
    "    \n",
    "    if isinstance(x, str):\n",
    "        x = re.sub(pattern, ' ', x)\n",
    "        words = x.split()\n",
    "        lemmatized_words = [lemmatizer.lemmatize(word, get_wordnet_pos(word)) for word in words]\n",
    "        x = ' '.join(lemmatized_words)\n",
    "        \n",
    "               \n",
    "    return x"
   ]
  },
  {
   "cell_type": "code",
   "execution_count": 6,
   "metadata": {},
   "outputs": [
    {
     "name": "stdout",
     "output_type": "stream",
     "text": [
      "Preprocessing questions...\n",
      "Pre-Processing Completed\n"
     ]
    }
   ],
   "source": [
    "print(\"Preprocessing questions...\")\n",
    "stratified_sample['question1'] = stratified_sample['question1'].apply(preprocess)\n",
    "stratified_sample['question2'] = stratified_sample['question2'].apply(preprocess)\n",
    "print(\"Pre-Processing Completed\")"
   ]
  },
  {
   "cell_type": "code",
   "execution_count": null,
   "metadata": {},
   "outputs": [
    {
     "name": "stderr",
     "output_type": "stream",
     "text": [
      "[nltk_data] Downloading package punkt to /home/ubuntu/nltk_data...\n",
      "[nltk_data]   Package punkt is already up-to-date!\n",
      "[nltk_data] Downloading package stopwords to /home/ubuntu/nltk_data...\n",
      "[nltk_data]   Package stopwords is already up-to-date!\n"
     ]
    },
    {
     "data": {
      "image/png": "[encoded data removed]",
      "text/plain": [
       "<Figure size 1000x500 with 1 Axes>"
      ]
     },
     "metadata": {},
     "output_type": "display_data"
    },
    {
     "data": {
      "image/png": "[encoded data removed]",
      "text/plain": [
       "<Figure size 1000x500 with 1 Axes>"
      ]
     },
     "metadata": {},
     "output_type": "display_data"
    },
    {
     "data": {
      "image/png": "[encoded data removed]",
      "text/plain": [
       "<Figure size 1000x500 with 1 Axes>"
      ]
     },
     "metadata": {},
     "output_type": "display_data"
    }
   ],
   "source": [
    "nltk.download('punkt')\n",
    "nltk.download('stopwords')\n",
    "all_questions = pd.concat([stratified_sample['question1'], stratified_sample['question2']], axis=0).dropna()\n",
    "def get_ngrams_without_stopwords(text_series, n):\n",
    "    stop_words = set(stopwords.words('english'))\n",
    "    ngram_counter = Counter()\n",
    "    \n",
    "    for text in text_series:\n",
    "        tokens = [word for word in word_tokenize(str(text).lower()) if word not in stop_words]\n",
    "        ngram_counter.update(ngrams(tokens, n))\n",
    "    \n",
    "    return ngram_counter\n",
    "unigrams = get_ngrams_without_stopwords(all_questions, 1)\n",
    "bigrams = get_ngrams_without_stopwords(all_questions, 2)\n",
    "trigrams = get_ngrams_without_stopwords(all_questions, 3)\n",
    "\n",
    "most_common_unigrams = unigrams.most_common(10)\n",
    "most_common_bigrams = bigrams.most_common(10)\n",
    "most_common_trigrams = trigrams.most_common(10)\n",
    "\n",
    "# Function to plot n-grams\n",
    "def plot_ngrams(ngrams, title):\n",
    "    ngram_labels = [' '.join(item[0]) for item in ngrams] \n",
    "    ngram_frequencies = [item[1] for item in ngrams]\n",
    "\n",
    "    plt.figure(figsize=(10, 5))\n",
    "    plt.bar(ngram_labels, ngram_frequencies, color='skyblue')\n",
    "    plt.title(title, fontsize=16)\n",
    "    plt.xlabel('N-Grams', fontsize=14)\n",
    "    plt.ylabel('Frequency', fontsize=14)\n",
    "    plt.xticks(rotation=45, ha='right')\n",
    "    plt.tight_layout()\n",
    "    plt.show()\n",
    "plot_ngrams(most_common_unigrams, \"Most Common Unigrams\")\n",
    "plot_ngrams(most_common_bigrams, \"Most Common Bigrams\")\n",
    "plot_ngrams(most_common_trigrams, \"Most Common Trigrams\")"
   ]
  },
  {
   "cell_type": "code",
   "execution_count": null,
   "metadata": {},
   "outputs": [
    {
     "name": "stdout",
     "output_type": "stream",
     "text": [
      "Extracting features...\n",
      "Calculating token features...\n",
      "Calculating fuzzy features...\n",
      "Calculating additional features...\n",
      "Feature extraction complete.\n"
     ]
    }
   ],
   "source": [
    "SAFE_DIV = 0.0001\n",
    "STOP_WORDS = stopwords.words(\"english\")\n",
    "\n",
    "def get_token_features(q1, q2):\n",
    "    token_features = [0.0]*10\n",
    "    q1_tokens = q1.split()\n",
    "    q2_tokens = q2.split()\n",
    "    \n",
    "    if len(q1_tokens) == 0 or len(q2_tokens) == 0:\n",
    "        return token_features\n",
    "    \n",
    "    q1_words = set([word for word in q1_tokens if word not in STOP_WORDS])\n",
    "    q2_words = set([word for word in q2_tokens if word not in STOP_WORDS])\n",
    "    q1_stops = set([word for word in q1_tokens if word in STOP_WORDS])\n",
    "    q2_stops = set([word for word in q2_tokens if word in STOP_WORDS])\n",
    "    \n",
    "    common_word_count = len(q1_words.intersection(q2_words))\n",
    "    common_stop_count = len(q1_stops.intersection(q2_stops))\n",
    "    common_token_count = len(set(q1_tokens).intersection(set(q2_tokens)))\n",
    "    \n",
    "    token_features[0] = common_word_count / (min(len(q1_words), len(q2_words)) + SAFE_DIV)\n",
    "    token_features[1] = common_word_count / (max(len(q1_words), len(q2_words)) + SAFE_DIV)\n",
    "    token_features[2] = common_stop_count / (min(len(q1_stops), len(q2_stops)) + SAFE_DIV)\n",
    "    token_features[3] = common_stop_count / (max(len(q1_stops), len(q2_stops)) + SAFE_DIV)\n",
    "    token_features[4] = common_token_count / (min(len(q1_tokens), len(q2_tokens)) + SAFE_DIV)\n",
    "    token_features[5] = common_token_count / (max(len(q1_tokens), len(q2_tokens)) + SAFE_DIV)\n",
    "    token_features[6] = int(q1_tokens[-1] == q2_tokens[-1])\n",
    "    token_features[7] = int(q1_tokens[0] == q2_tokens[0])\n",
    "    token_features[8] = abs(len(q1_tokens) - len(q2_tokens))\n",
    "    token_features[9] = (len(q1_tokens) + len(q2_tokens))/2\n",
    "    return token_features\n",
    "\n",
    "def extract_features(data):\n",
    "    print(\"Extracting features...\")\n",
    "    \n",
    "    data['freq_qid1'] = data.groupby('qid1')['qid1'].transform('count')\n",
    "    data['freq_qid2'] = data.groupby('qid2')['qid2'].transform('count')\n",
    "    data['q1len'] = data['question1'].str.len()\n",
    "    data['q2len'] = data['question2'].str.len()\n",
    "    data['q1_n_words'] = data['question1'].apply(lambda x: len(str(x).split()))\n",
    "    data['q2_n_words'] = data['question2'].apply(lambda x: len(str(x).split()))\n",
    "    \n",
    "    data['word_Common'] = data.apply(lambda x: len(set(str(x['question1']).lower().split()) & set(str(x['question2']).lower().split())), axis=1)\n",
    "    data['word_Total'] = data.apply(lambda x: len(set(str(x['question1']).lower().split()) | set(str(x['question2']).lower().split())), axis=1)\n",
    "    data['word_share'] = data['word_Common'] / data['word_Total']\n",
    "    \n",
    "    data['freq_q1+q2'] = data['freq_qid1'] + data['freq_qid2']\n",
    "    data['freq_q1-q2'] = abs(data['freq_qid1'] - data['freq_qid2'])\n",
    "\n",
    "    print(\"Calculating token features...\")\n",
    "    token_features = data.apply(lambda x: get_token_features(str(x['question1']), str(x['question2'])), axis=1)\n",
    "    data['cwc_min'], data['cwc_max'], data['csc_min'], data['csc_max'], data['ctc_min'], data['ctc_max'], \\\n",
    "    data['last_word_eq'], data['first_word_eq'], data['abs_len_diff'], data['mean_len'] = zip(*token_features)\n",
    "\n",
    "    print(\"Calculating fuzzy features...\")\n",
    "    data['token_set_ratio'] = data.apply(lambda x: fuzz.token_set_ratio(str(x['question1']), str(x['question2'])), axis=1)\n",
    "    data['token_sort_ratio'] = data.apply(lambda x: fuzz.token_sort_ratio(str(x['question1']), str(x['question2'])), axis=1)\n",
    "    data['fuzz_ratio'] = data.apply(lambda x: fuzz.QRatio(str(x['question1']), str(x['question2'])), axis=1)\n",
    "    data['fuzz_partial_ratio'] = data.apply(lambda x: fuzz.partial_ratio(str(x['question1']), str(x['question2'])), axis=1)\n",
    "    data['longest_substr_ratio'] = data.apply(lambda x: get_longest_substr_ratio(str(x['question1']), str(x['question2'])), axis=1)\n",
    "\n",
    "    print(\"Calculating additional features...\")\n",
    "    data['ratio_q_lengths'] = data.apply(lambda x: ratio_of_question_lengths(x['question1'], x['question2']), axis=1)\n",
    "    data['common_prefix'] = data.apply(lambda x: common_prefix(str(x['question1']), str(x['question2'])), axis=1)\n",
    "    data['common_suffix'] = data.apply(lambda x: common_suffix(str(x['question1']), str(x['question2'])), axis=1)\n",
    "    data['diff_words'] = data.apply(lambda x: abs(x['q1_n_words'] - x['q2_n_words']), axis=1)\n",
    "    data['diff_chars'] = data.apply(lambda x: abs(len(str(x['question1'])) - len(str(x['question2']))), axis=1)\n",
    "    data['jaccard_similarity'] = data.apply(lambda x: jaccard_similarity(str(x['question1']), str(x['question2'])), axis=1)\n",
    "    data['longest_common_subsequence'] = data.apply(lambda x: longest_common_subsequence(str(x['question1']), str(x['question2'])), axis=1)\n",
    "\n",
    "    print(\"Feature extraction complete.\")\n",
    "    return data\n",
    "\n",
    "def ratio_of_question_lengths(q1, q2):\n",
    "    len_q1 = len(str(q1))\n",
    "    len_q2 = len(str(q2))\n",
    "    return len_q1 / len_q2 if len_q2 != 0 else 0.0\n",
    "\n",
    "def common_prefix(q1, q2):\n",
    "    i = 0\n",
    "    while i < min(len(q1), len(q2)) and q1[i] == q2[i]:\n",
    "        i += 1\n",
    "    return i\n",
    "\n",
    "def common_suffix(q1, q2):\n",
    "    i, j = len(q1) - 1, len(q2) - 1\n",
    "    while i >= 0 and j >= 0 and q1[i] == q2[j]:\n",
    "        i -= 1\n",
    "        j -= 1\n",
    "    return len(q1) - i - 1\n",
    "\n",
    "def jaccard_similarity(q1, q2):\n",
    "    q1_tokens = set(q1.split())\n",
    "    q2_tokens = set(q2.split())\n",
    "    if not q1_tokens or not q2_tokens:\n",
    "        return 0.0\n",
    "    return 1.0 - jaccard_distance(q1_tokens, q2_tokens)\n",
    "\n",
    "def longest_common_subsequence(q1, q2):\n",
    "    seq1, seq2 = list(q1), list(q2)\n",
    "    m, n = len(seq1), len(seq2)\n",
    "    dp = [[0] * (n + 1) for _ in range(m + 1)]\n",
    "    for i in range(1, m + 1):\n",
    "        for j in range(1, n + 1):\n",
    "            if seq1[i - 1] == seq2[j - 1]:\n",
    "                dp[i][j] = dp[i - 1][j - 1] + 1\n",
    "            else:\n",
    "                dp[i][j] = max(dp[i - 1][j], dp[i][j - 1])\n",
    "    return dp[m][n]\n",
    "\n",
    "def get_longest_substr_ratio(a, b):\n",
    "    strs = list(distance.lcsubstrings(a, b))\n",
    "    return len(strs[0]) / (min(len(a), len(b)) + 1) if strs else 0\n",
    "\n",
    "\n",
    "data = extract_features(stratified_sample)"
   ]
  },
  {
   "cell_type": "code",
   "execution_count": 95,
   "metadata": {},
   "outputs": [
    {
     "data": {
      "text/html": [
       "<div>\n",
       "<style scoped>\n",
       "    .dataframe tbody tr th:only-of-type {\n",
       "        vertical-align: middle;\n",
       "    }\n",
       "\n",
       "    .dataframe tbody tr th {\n",
       "        vertical-align: top;\n",
       "    }\n",
       "\n",
       "    .dataframe thead th {\n",
       "        text-align: right;\n",
       "    }\n",
       "</style>\n",
       "<table border=\"1\" class=\"dataframe\">\n",
       "  <thead>\n",
       "    <tr style=\"text-align: right;\">\n",
       "      <th></th>\n",
       "      <th>id</th>\n",
       "      <th>qid1</th>\n",
       "      <th>qid2</th>\n",
       "      <th>question1</th>\n",
       "      <th>question2</th>\n",
       "      <th>is_duplicate</th>\n",
       "      <th>freq_qid1</th>\n",
       "      <th>freq_qid2</th>\n",
       "      <th>q1len</th>\n",
       "      <th>q2len</th>\n",
       "      <th>...</th>\n",
       "      <th>fuzz_ratio</th>\n",
       "      <th>fuzz_partial_ratio</th>\n",
       "      <th>longest_substr_ratio</th>\n",
       "      <th>ratio_q_lengths</th>\n",
       "      <th>common_prefix</th>\n",
       "      <th>common_suffix</th>\n",
       "      <th>diff_words</th>\n",
       "      <th>diff_chars</th>\n",
       "      <th>jaccard_similarity</th>\n",
       "      <th>longest_common_subsequence</th>\n",
       "    </tr>\n",
       "  </thead>\n",
       "  <tbody>\n",
       "    <tr>\n",
       "      <th>0</th>\n",
       "      <td>362767</td>\n",
       "      <td>492698</td>\n",
       "      <td>492699</td>\n",
       "      <td>what be some example of artificial satellite</td>\n",
       "      <td>what be artificial satellite</td>\n",
       "      <td>0</td>\n",
       "      <td>1</td>\n",
       "      <td>1</td>\n",
       "      <td>44</td>\n",
       "      <td>28</td>\n",
       "      <td>...</td>\n",
       "      <td>78</td>\n",
       "      <td>79</td>\n",
       "      <td>0.724138</td>\n",
       "      <td>1.571429</td>\n",
       "      <td>8</td>\n",
       "      <td>21</td>\n",
       "      <td>3</td>\n",
       "      <td>16</td>\n",
       "      <td>0.571429</td>\n",
       "      <td>28</td>\n",
       "    </tr>\n",
       "    <tr>\n",
       "      <th>1</th>\n",
       "      <td>398904</td>\n",
       "      <td>532147</td>\n",
       "      <td>532148</td>\n",
       "      <td>what do the term government mean</td>\n",
       "      <td>what do the term government 2 0 mean</td>\n",
       "      <td>0</td>\n",
       "      <td>1</td>\n",
       "      <td>1</td>\n",
       "      <td>32</td>\n",
       "      <td>36</td>\n",
       "      <td>...</td>\n",
       "      <td>94</td>\n",
       "      <td>88</td>\n",
       "      <td>0.848485</td>\n",
       "      <td>0.888889</td>\n",
       "      <td>28</td>\n",
       "      <td>5</td>\n",
       "      <td>2</td>\n",
       "      <td>4</td>\n",
       "      <td>0.750000</td>\n",
       "      <td>32</td>\n",
       "    </tr>\n",
       "    <tr>\n",
       "      <th>2</th>\n",
       "      <td>327293</td>\n",
       "      <td>453706</td>\n",
       "      <td>453707</td>\n",
       "      <td>be the usda constitutional</td>\n",
       "      <td>what be a usda loan</td>\n",
       "      <td>0</td>\n",
       "      <td>1</td>\n",
       "      <td>1</td>\n",
       "      <td>26</td>\n",
       "      <td>19</td>\n",
       "      <td>...</td>\n",
       "      <td>49</td>\n",
       "      <td>58</td>\n",
       "      <td>0.300000</td>\n",
       "      <td>1.368421</td>\n",
       "      <td>0</td>\n",
       "      <td>0</td>\n",
       "      <td>1</td>\n",
       "      <td>7</td>\n",
       "      <td>0.285714</td>\n",
       "      <td>11</td>\n",
       "    </tr>\n",
       "    <tr>\n",
       "      <th>3</th>\n",
       "      <td>368177</td>\n",
       "      <td>498520</td>\n",
       "      <td>498521</td>\n",
       "      <td>reservoir dog 1992 movie if they have live wou...</td>\n",
       "      <td>be the movie reservoir dog racist</td>\n",
       "      <td>0</td>\n",
       "      <td>1</td>\n",
       "      <td>1</td>\n",
       "      <td>92</td>\n",
       "      <td>33</td>\n",
       "      <td>...</td>\n",
       "      <td>29</td>\n",
       "      <td>48</td>\n",
       "      <td>0.411765</td>\n",
       "      <td>2.787879</td>\n",
       "      <td>0</td>\n",
       "      <td>0</td>\n",
       "      <td>11</td>\n",
       "      <td>59</td>\n",
       "      <td>0.166667</td>\n",
       "      <td>21</td>\n",
       "    </tr>\n",
       "    <tr>\n",
       "      <th>4</th>\n",
       "      <td>122529</td>\n",
       "      <td>198297</td>\n",
       "      <td>198298</td>\n",
       "      <td>what happens to an ant colony when a queen ant dy</td>\n",
       "      <td>why do ant carry away their dead</td>\n",
       "      <td>0</td>\n",
       "      <td>1</td>\n",
       "      <td>1</td>\n",
       "      <td>49</td>\n",
       "      <td>32</td>\n",
       "      <td>...</td>\n",
       "      <td>42</td>\n",
       "      <td>50</td>\n",
       "      <td>0.181818</td>\n",
       "      <td>1.531250</td>\n",
       "      <td>2</td>\n",
       "      <td>0</td>\n",
       "      <td>4</td>\n",
       "      <td>17</td>\n",
       "      <td>0.062500</td>\n",
       "      <td>19</td>\n",
       "    </tr>\n",
       "  </tbody>\n",
       "</table>\n",
       "<p>5 rows × 39 columns</p>\n",
       "</div>"
      ],
      "text/plain": [
       "       id    qid1    qid2                                          question1  \\\n",
       "0  362767  492698  492699       what be some example of artificial satellite   \n",
       "1  398904  532147  532148                   what do the term government mean   \n",
       "2  327293  453706  453707                         be the usda constitutional   \n",
       "3  368177  498520  498521  reservoir dog 1992 movie if they have live wou...   \n",
       "4  122529  198297  198298  what happens to an ant colony when a queen ant dy   \n",
       "\n",
       "                              question2  is_duplicate  freq_qid1  freq_qid2  \\\n",
       "0          what be artificial satellite             0          1          1   \n",
       "1  what do the term government 2 0 mean             0          1          1   \n",
       "2                   what be a usda loan             0          1          1   \n",
       "3     be the movie reservoir dog racist             0          1          1   \n",
       "4      why do ant carry away their dead             0          1          1   \n",
       "\n",
       "   q1len  q2len  ...  fuzz_ratio  fuzz_partial_ratio  longest_substr_ratio  \\\n",
       "0     44     28  ...          78                  79              0.724138   \n",
       "1     32     36  ...          94                  88              0.848485   \n",
       "2     26     19  ...          49                  58              0.300000   \n",
       "3     92     33  ...          29                  48              0.411765   \n",
       "4     49     32  ...          42                  50              0.181818   \n",
       "\n",
       "   ratio_q_lengths  common_prefix  common_suffix  diff_words  diff_chars  \\\n",
       "0         1.571429              8             21           3          16   \n",
       "1         0.888889             28              5           2           4   \n",
       "2         1.368421              0              0           1           7   \n",
       "3         2.787879              0              0          11          59   \n",
       "4         1.531250              2              0           4          17   \n",
       "\n",
       "   jaccard_similarity  longest_common_subsequence  \n",
       "0            0.571429                          28  \n",
       "1            0.750000                          32  \n",
       "2            0.285714                          11  \n",
       "3            0.166667                          21  \n",
       "4            0.062500                          19  \n",
       "\n",
       "[5 rows x 39 columns]"
      ]
     },
     "execution_count": 95,
     "metadata": {},
     "output_type": "execute_result"
    }
   ],
   "source": [
    "data.head(5)"
   ]
  },
  {
   "cell_type": "markdown",
   "metadata": {},
   "source": [
    "### Check for questions with 2 words or less than 2 words"
   ]
  },
  {
   "cell_type": "code",
   "execution_count": null,
   "metadata": {},
   "outputs": [
    {
     "name": "stdout",
     "output_type": "stream",
     "text": [
      "Number of Sentences: 52\n",
      "\n",
      "Q1: aaa\n",
      "Q2: my dad always yell at me and cause me anxiety how do i fix this\n",
      "Is Duplicate: 0\n",
      "--------------------------------------------------\n",
      "Q1: which kind of medical technology cause moral controversy bioprinting\n",
      "Q2: stress definition\n",
      "Is Duplicate: 0\n",
      "--------------------------------------------------\n",
      "Q1: \n",
      "Q2: what be cisco router technical support phone number\n",
      "Is Duplicate: 0\n",
      "--------------------------------------------------\n",
      "Q1: marriage\n",
      "Q2: marriage be an institution what do this mean\n",
      "Is Duplicate: 0\n",
      "--------------------------------------------------\n",
      "Q1: \n",
      "Q2: what do i do with this guy\n",
      "Is Duplicate: 0\n",
      "--------------------------------------------------\n",
      "Q1: me and my girlfriend wish to go out and do owntuff and we have just public place to go to where can we do it without anyone know\n",
      "Q2: delete\n",
      "Is Duplicate: 0\n",
      "--------------------------------------------------\n",
      "Q1: joseph armethia\n",
      "Q2: be fleury lose the start job to matt murray\n",
      "Is Duplicate: 0\n",
      "--------------------------------------------------\n",
      "Q1: why should i purchase samsung smart lead curve tv 32 inch for my one family\n",
      "Q2: government sector\n",
      "Is Duplicate: 0\n",
      "--------------------------------------------------\n",
      "Q1: phone numbe\n",
      "Q2: what be the fun thing in your college symposium\n",
      "Is Duplicate: 0\n",
      "--------------------------------------------------\n",
      "Q1: what be the most efficient way to clean snow globe\n",
      "Q2: fisica_teorica google\n",
      "Is Duplicate: 0\n",
      "--------------------------------------------------\n"
     ]
    }
   ],
   "source": [
    "filtered_data = data[(data['q1_n_words'] <= 2) | (data['q2_n_words'] <= 2)]\n",
    "num_sentences = len(filtered_data)\n",
    "print(f\"Number of Sentences: {num_sentences}\\n\")\n",
    "\n",
    "for index, row in filtered_data.head(10).iterrows():\n",
    "    print(f\"Q1: {row['question1']}\")\n",
    "    print(f\"Q2: {row['question2']}\")\n",
    "    print(f\"Is Duplicate: {row['is_duplicate']}\")\n",
    "    print(\"-\" * 50)"
   ]
  },
  {
   "cell_type": "code",
   "execution_count": null,
   "metadata": {},
   "outputs": [],
   "source": [
    "data['question1'] = data['question1'].replace('', np.nan)\n",
    "data['question2'] = data['question2'].replace('', np.nan)\n",
    "data = data.dropna(subset=['question1', 'question2'])"
   ]
  },
  {
   "cell_type": "code",
   "execution_count": 98,
   "metadata": {},
   "outputs": [
    {
     "name": "stdout",
     "output_type": "stream",
     "text": [
      "Minimum length of the questions in question1 :  1\n",
      "Minimum length of the questions in question2 :  1\n",
      "Number of Questions with minimum length [question1] : 12\n",
      "Number of Questions with minimum length [question2] : 6\n"
     ]
    }
   ],
   "source": [
    "print (\"Minimum length of the questions in question1 : \" , min(data['q1_n_words']))\n",
    "\n",
    "print (\"Minimum length of the questions in question2 : \" , min(data['q2_n_words']))\n",
    "\n",
    "print (\"Number of Questions with minimum length [question1] :\", data[data['q1_n_words']== 1].shape[0])\n",
    "print (\"Number of Questions with minimum length [question2] :\", data[data['q2_n_words']== 1].shape[0])"
   ]
  },
  {
   "cell_type": "markdown",
   "metadata": {},
   "source": [
    "## Featurizing text data with Tf-Idf weighted word-vectors"
   ]
  },
  {
   "cell_type": "code",
   "execution_count": 100,
   "metadata": {},
   "outputs": [],
   "source": [
    "df = pd.read_csv('train.csv')\n",
    "sample_size = int(0.3 * len(data))\n",
    "df = df.groupby('is_duplicate', group_keys=False).apply(\n",
    "    lambda x: x.sample(n=int(class_proportions[x.name] * sample_size), random_state=42)\n",
    ")\n",
    "df = stratified_sample.reset_index(drop=True)"
   ]
  },
  {
   "cell_type": "code",
   "execution_count": null,
   "metadata": {},
   "outputs": [
    {
     "name": "stdout",
     "output_type": "stream",
     "text": [
      "spaCy model 'en_core_web_lg' loaded successfully.\n"
     ]
    },
    {
     "name": "stderr",
     "output_type": "stream",
     "text": [
      "121285it [15:27, 130.72it/s]\n"
     ]
    }
   ],
   "source": [
    "warnings.filterwarnings(\"ignore\")\n",
    "\n",
    "df['question1'] = df['question1'].apply(lambda x: str(x))\n",
    "df['question2'] = df['question2'].apply(lambda x: str(x))\n",
    "questions = list(df['question1']) + list(df['question2'])\n",
    "\n",
    "# TF-IDF vectorization\n",
    "tfidf = TfidfVectorizer(lowercase=False)\n",
    "tfidf.fit_transform(questions)\n",
    "word2tfidf = dict(zip(tfidf.get_feature_names_out(), tfidf.idf_))\n",
    "\n",
    "def load_spacy_model(model_name='en_core_web_lg'):\n",
    "    try:\n",
    "        nlp = spacy.load(model_name)\n",
    "        print(f\"spaCy model '{model_name}' loaded successfully.\")\n",
    "    except OSError:\n",
    "        print(f\"Model '{model_name}' not found. Downloading...\")\n",
    "        download(model_name)\n",
    "        nlp = spacy.load(model_name)\n",
    "        print(f\"spaCy model '{model_name}' downloaded and loaded successfully.\")\n",
    "\n",
    "    return nlp\n",
    "\n",
    "# Loading the spaCy model\n",
    "nlp = load_spacy_model()\n",
    "vecs1 = []\n",
    "vecs2 = []\n",
    "\n",
    "for qu1, qu2 in tqdm(zip(list(df['question1']), list(df['question2']))):\n",
    "    doc1 = nlp(qu1)\n",
    "    mean_vec1 = np.zeros([len(doc1), len(doc1[0].vector)])\n",
    "\n",
    "    for word1 in doc1:\n",
    "        vec1 = word1.vector\n",
    "        try:\n",
    "            idf = word2tfidf[str(word1)]\n",
    "        except:\n",
    "            idf = 0\n",
    "        mean_vec1 += vec1 * idf\n",
    "\n",
    "    mean_vec1 = mean_vec1.mean(axis=0)\n",
    "    vecs1.append(mean_vec1)\n",
    "\n",
    "    doc2 = nlp(qu2)\n",
    "    mean_vec2 = np.zeros([len(doc2), len(doc2[0].vector)])\n",
    "\n",
    "    for word2 in doc2:\n",
    "        vec2 = word2.vector\n",
    "        try:\n",
    "            idf = word2tfidf[str(word2)]\n",
    "        except:\n",
    "            idf = 0\n",
    "        mean_vec2 += vec2 * idf\n",
    "\n",
    "    mean_vec2 = mean_vec2.mean(axis=0)\n",
    "    vecs2.append(mean_vec2)\n",
    "\n",
    "df['q1_feats_m'] = list(vecs1)\n",
    "df['q2_feats_m'] = list(vecs2)"
   ]
  },
  {
   "cell_type": "code",
   "execution_count": 102,
   "metadata": {},
   "outputs": [],
   "source": [
    "df.to_csv('tqidf.csv', index=False)"
   ]
  },
  {
   "cell_type": "code",
   "execution_count": null,
   "metadata": {},
   "outputs": [
    {
     "name": "stdout",
     "output_type": "stream",
     "text": [
      "Number of features in nlp dataframe: 35\n",
      "Head(5) of nlp dataframe:\n",
      "       id  is_duplicate  freq_qid1  freq_qid2  q1len  q2len  q1_n_words  \\\n",
      "0  362767             0          1          1     44     28           7   \n",
      "1  398904             0          1          1     32     36           6   \n",
      "2  327293             0          1          1     26     19           4   \n",
      "3  368177             0          1          1     92     33          17   \n",
      "4  122529             0          1          1     49     32          11   \n",
      "\n",
      "   q2_n_words  word_Common  word_Total  ...  fuzz_ratio  fuzz_partial_ratio  \\\n",
      "0           4            4           7  ...          78                  79   \n",
      "1           8            6           8  ...          94                  88   \n",
      "2           5            2           7  ...          49                  58   \n",
      "3           6            3          18  ...          29                  48   \n",
      "4           7            1          16  ...          42                  50   \n",
      "\n",
      "   longest_substr_ratio  ratio_q_lengths  common_prefix  common_suffix  \\\n",
      "0              0.724138         1.571429              8             21   \n",
      "1              0.848485         0.888889             28              5   \n",
      "2              0.300000         1.368421              0              0   \n",
      "3              0.411765         2.787879              0              0   \n",
      "4              0.181818         1.531250              2              0   \n",
      "\n",
      "   diff_words  diff_chars  jaccard_similarity  longest_common_subsequence  \n",
      "0           3          16            0.571429                          28  \n",
      "1           2           4            0.750000                          32  \n",
      "2           1           7            0.285714                          11  \n",
      "3          11          59            0.166667                          21  \n",
      "4           4          17            0.062500                          19  \n",
      "\n",
      "[5 rows x 35 columns]\n",
      "\n",
      "Number of features in question1 w2v dataframe: 300\n",
      "Head(5) of question1 w2v dataframe:\n",
      "         0          1         2          3          4          5          6    \\\n",
      "0 -11.434704   3.739134 -4.532046  -4.337924   0.252559   7.263344  -2.845760   \n",
      "1  -8.081262   0.382889 -2.732315  -2.402963  -0.149391  -3.024595  -4.208224   \n",
      "2  -8.082090  -2.166935  5.156863   2.530626   3.258410   6.250920   7.765835   \n",
      "3  -4.192625  17.657091 -7.881322 -16.613738  18.434669  12.491709 -23.795221   \n",
      "4   2.696177  -1.101004 -8.816574 -20.335969  -7.933448   7.207636  10.046528   \n",
      "\n",
      "         7          8           9    ...        290       291        292  \\\n",
      "0   6.149411   0.694745   62.927019  ... -10.016854  4.239383  -7.143432   \n",
      "1  -2.819095   3.284783   66.889744  ...  -3.676359  1.047990   1.463157   \n",
      "2   7.203336  -3.386932   34.257827  ...  11.514035  2.218837   4.574002   \n",
      "3 -13.059999  13.139548  195.516258  ... -20.375769  0.811060   4.584759   \n",
      "4 -11.133352   2.946942   87.570586  ...   0.669317  8.814019 -16.471948   \n",
      "\n",
      "         293        294       295       296        297       298        299  \n",
      "0  -4.089155   0.333337  1.154461 -4.779952   2.060404 -2.065787   5.355962  \n",
      "1  -3.584772   3.228704  4.496219 -5.064294  -1.717365  2.398764  -0.124639  \n",
      "2   0.139607  -3.272247  3.830162  3.609918  -8.025054  7.013908  -3.016704  \n",
      "3  -0.912555  15.372879 -5.655685  4.650443 -10.500496  1.237052   2.593197  \n",
      "4 -16.988593  -7.032636  1.156020 -1.766219   2.440115 -7.134071 -11.628385  \n",
      "\n",
      "[5 rows x 300 columns]\n",
      "\n",
      "Number of features in question2 w2v dataframe: 300\n",
      "Head(5) of question2 w2v dataframe:\n",
      "         0         1         2         3         4          5          6    \\\n",
      "0  -9.772065  1.675670 -1.036841 -3.885121 -0.425427   4.865420  -1.877394   \n",
      "1  -8.081262  0.382889 -2.732315 -2.402963 -0.149391  -3.024595  -4.208224   \n",
      "2 -18.148541  4.042899 -3.225574 -0.344906  5.374337   5.899929   3.723993   \n",
      "3  -4.356251  4.056294  3.486093 -5.489606  1.113787  15.726260 -13.570315   \n",
      "4   0.180801 -1.862364 -8.618729 -1.742118 -1.306503   1.117004  -3.460592   \n",
      "\n",
      "        7         8          9    ...        290        291       292  \\\n",
      "0  4.810885  1.373379  34.211665  ...  -5.044432   3.007079 -5.889633   \n",
      "1 -2.819095  3.284783  66.889744  ...  -3.676359   1.047990  1.463157   \n",
      "2 -0.933619  0.156680  26.468376  ...   7.380829  10.292572  6.021719   \n",
      "3 -0.868005  6.668087  64.795560  ...  -3.998555   2.598721 -1.135953   \n",
      "4 -5.026192 -3.136806  93.969698  ... -17.373996  -3.145884 -7.620707   \n",
      "\n",
      "        293        294       295       296       297       298       299  \n",
      "0 -3.883241   3.347128  0.474625 -3.029122  3.732358 -1.812029  3.502651  \n",
      "1 -3.584772   3.228704  4.496219 -5.064294 -1.717365  2.398764 -0.124639  \n",
      "2  5.801611   2.975979  0.503108  1.746911 -8.484473  2.814592 -1.513171  \n",
      "3 -7.893859  10.526262  4.689528 -7.011284  2.741728 -8.582288 -0.659952  \n",
      "4 -7.286170  -1.247638 -3.290588  0.733282  0.762949  4.327167 -6.191529  \n",
      "\n",
      "[5 rows x 300 columns]\n",
      "\n",
      "Number of features in the final dataframe: 635\n"
     ]
    }
   ],
   "source": [
    "df1 = data.drop(['qid1', 'qid2', 'question1', 'question2'], axis=1)\n",
    "df3 = df.drop(['qid1', 'qid2', 'question1', 'question2', 'is_duplicate'], axis=1)\n",
    "df3_q1 = pd.DataFrame(df3.q1_feats_m.values.tolist(), index=df3.index)\n",
    "df3_q2 = pd.DataFrame(df3.q2_feats_m.values.tolist(), index=df3.index)\n",
    "print(\"Number of features in nlp dataframe:\", df1.shape[1])\n",
    "print(\"Head(5) of nlp dataframe:\")\n",
    "print(df1.head(5))\n",
    "\n",
    "print(\"\\nNumber of features in question1 w2v dataframe:\", df3_q1.shape[1])\n",
    "print(\"Head(5) of question1 w2v dataframe:\")\n",
    "print(df3_q1.head(5))\n",
    "\n",
    "print(\"\\nNumber of features in question2 w2v dataframe:\", df3_q2.shape[1])\n",
    "print(\"Head(5) of question2 w2v dataframe:\")\n",
    "print(df3_q2.head(5))\n",
    "\n",
    "print(\"\\nNumber of features in the final dataframe:\", df1.shape[1] + df3_q1.shape[1] + df3_q2.shape[1])"
   ]
  },
  {
   "cell_type": "code",
   "execution_count": 105,
   "metadata": {},
   "outputs": [],
   "source": [
    "if not os.path.isfile('final_features.csv'):\n",
    "    df3_q1['id'] = df1['id']\n",
    "    df3_q2['id'] = df1['id']    \n",
    "    result = df1.merge(df3_q1, on='id', how='left').merge(df3_q2, on='id', how='left')    \n",
    "    result.to_csv('final_features.csv', index=False)"
   ]
  },
  {
   "cell_type": "code",
   "execution_count": 11,
   "metadata": {},
   "outputs": [],
   "source": [
    "# Read the CSV file\n",
    "df = pd.read_csv('final_features.csv')"
   ]
  },
  {
   "cell_type": "code",
   "execution_count": null,
   "metadata": {},
   "outputs": [
    {
     "name": "stdout",
     "output_type": "stream",
     "text": [
      "No NA Values Present\n",
      "Number of NaN values in each column after replacement:\n",
      "id              0\n",
      "is_duplicate    0\n",
      "freq_qid1       0\n",
      "freq_qid2       0\n",
      "q1len           0\n",
      "               ..\n",
      "295_y           0\n",
      "296_y           0\n",
      "297_y           0\n",
      "298_y           0\n",
      "299_y           0\n",
      "Length: 635, dtype: int64\n"
     ]
    }
   ],
   "source": [
    "if df.isna().any().any():\n",
    "    print(\"NA Values Present\")\n",
    "else:\n",
    "    print(\"No NA Values Present\")\n",
    "nan_counts = df.isna().sum()\n",
    "print(\"Number of NaN values in each column after replacement:\")\n",
    "print(nan_counts)"
   ]
  },
  {
   "cell_type": "code",
   "execution_count": null,
   "metadata": {},
   "outputs": [
    {
     "name": "stdout",
     "output_type": "stream",
     "text": [
      "(121276, 633)\n"
     ]
    }
   ],
   "source": [
    "y_true = df['is_duplicate']\n",
    "df.drop(['id', 'is_duplicate'], axis=1, inplace=True)\n",
    "\n",
    "print(df.shape)\n",
    "cols = list(df.columns)\n",
    "for i in cols:\n",
    "    df[i] = pd.to_numeric(df[i], errors='coerce')"
   ]
  },
  {
   "cell_type": "code",
   "execution_count": null,
   "metadata": {},
   "outputs": [
    {
     "name": "stdout",
     "output_type": "stream",
     "text": [
      "No NA Values Present\n"
     ]
    },
    {
     "data": {
      "text/html": [
       "<div>\n",
       "<style scoped>\n",
       "    .dataframe tbody tr th:only-of-type {\n",
       "        vertical-align: middle;\n",
       "    }\n",
       "\n",
       "    .dataframe tbody tr th {\n",
       "        vertical-align: top;\n",
       "    }\n",
       "\n",
       "    .dataframe thead th {\n",
       "        text-align: right;\n",
       "    }\n",
       "</style>\n",
       "<table border=\"1\" class=\"dataframe\">\n",
       "  <thead>\n",
       "    <tr style=\"text-align: right;\">\n",
       "      <th></th>\n",
       "      <th>freq_qid1</th>\n",
       "      <th>freq_qid2</th>\n",
       "      <th>q1len</th>\n",
       "      <th>q2len</th>\n",
       "      <th>q1_n_words</th>\n",
       "      <th>q2_n_words</th>\n",
       "      <th>word_Common</th>\n",
       "      <th>word_Total</th>\n",
       "      <th>word_share</th>\n",
       "      <th>freq_q1+q2</th>\n",
       "      <th>...</th>\n",
       "      <th>290_y</th>\n",
       "      <th>291_y</th>\n",
       "      <th>292_y</th>\n",
       "      <th>293_y</th>\n",
       "      <th>294_y</th>\n",
       "      <th>295_y</th>\n",
       "      <th>296_y</th>\n",
       "      <th>297_y</th>\n",
       "      <th>298_y</th>\n",
       "      <th>299_y</th>\n",
       "    </tr>\n",
       "  </thead>\n",
       "  <tbody>\n",
       "    <tr>\n",
       "      <th>0</th>\n",
       "      <td>1</td>\n",
       "      <td>1</td>\n",
       "      <td>44</td>\n",
       "      <td>28</td>\n",
       "      <td>7</td>\n",
       "      <td>4</td>\n",
       "      <td>4</td>\n",
       "      <td>7</td>\n",
       "      <td>0.571429</td>\n",
       "      <td>2</td>\n",
       "      <td>...</td>\n",
       "      <td>-5.044432</td>\n",
       "      <td>3.007079</td>\n",
       "      <td>-5.889633</td>\n",
       "      <td>-3.883241</td>\n",
       "      <td>3.347128</td>\n",
       "      <td>0.474625</td>\n",
       "      <td>-3.029122</td>\n",
       "      <td>3.732358</td>\n",
       "      <td>-1.812029</td>\n",
       "      <td>3.502651</td>\n",
       "    </tr>\n",
       "    <tr>\n",
       "      <th>1</th>\n",
       "      <td>1</td>\n",
       "      <td>1</td>\n",
       "      <td>32</td>\n",
       "      <td>36</td>\n",
       "      <td>6</td>\n",
       "      <td>8</td>\n",
       "      <td>6</td>\n",
       "      <td>8</td>\n",
       "      <td>0.750000</td>\n",
       "      <td>2</td>\n",
       "      <td>...</td>\n",
       "      <td>-3.676359</td>\n",
       "      <td>1.047990</td>\n",
       "      <td>1.463157</td>\n",
       "      <td>-3.584772</td>\n",
       "      <td>3.228704</td>\n",
       "      <td>4.496219</td>\n",
       "      <td>-5.064294</td>\n",
       "      <td>-1.717365</td>\n",
       "      <td>2.398764</td>\n",
       "      <td>-0.124639</td>\n",
       "    </tr>\n",
       "    <tr>\n",
       "      <th>2</th>\n",
       "      <td>1</td>\n",
       "      <td>1</td>\n",
       "      <td>26</td>\n",
       "      <td>19</td>\n",
       "      <td>4</td>\n",
       "      <td>5</td>\n",
       "      <td>2</td>\n",
       "      <td>7</td>\n",
       "      <td>0.285714</td>\n",
       "      <td>2</td>\n",
       "      <td>...</td>\n",
       "      <td>7.380829</td>\n",
       "      <td>10.292572</td>\n",
       "      <td>6.021719</td>\n",
       "      <td>5.801611</td>\n",
       "      <td>2.975979</td>\n",
       "      <td>0.503108</td>\n",
       "      <td>1.746911</td>\n",
       "      <td>-8.484473</td>\n",
       "      <td>2.814592</td>\n",
       "      <td>-1.513171</td>\n",
       "    </tr>\n",
       "    <tr>\n",
       "      <th>3</th>\n",
       "      <td>1</td>\n",
       "      <td>1</td>\n",
       "      <td>92</td>\n",
       "      <td>33</td>\n",
       "      <td>17</td>\n",
       "      <td>6</td>\n",
       "      <td>3</td>\n",
       "      <td>18</td>\n",
       "      <td>0.166667</td>\n",
       "      <td>2</td>\n",
       "      <td>...</td>\n",
       "      <td>-3.998555</td>\n",
       "      <td>2.598721</td>\n",
       "      <td>-1.135953</td>\n",
       "      <td>-7.893859</td>\n",
       "      <td>10.526262</td>\n",
       "      <td>4.689528</td>\n",
       "      <td>-7.011284</td>\n",
       "      <td>2.741728</td>\n",
       "      <td>-8.582288</td>\n",
       "      <td>-0.659952</td>\n",
       "    </tr>\n",
       "    <tr>\n",
       "      <th>4</th>\n",
       "      <td>1</td>\n",
       "      <td>1</td>\n",
       "      <td>49</td>\n",
       "      <td>32</td>\n",
       "      <td>11</td>\n",
       "      <td>7</td>\n",
       "      <td>1</td>\n",
       "      <td>16</td>\n",
       "      <td>0.062500</td>\n",
       "      <td>2</td>\n",
       "      <td>...</td>\n",
       "      <td>-17.373996</td>\n",
       "      <td>-3.145884</td>\n",
       "      <td>-7.620707</td>\n",
       "      <td>-7.286170</td>\n",
       "      <td>-1.247638</td>\n",
       "      <td>-3.290588</td>\n",
       "      <td>0.733282</td>\n",
       "      <td>0.762949</td>\n",
       "      <td>4.327167</td>\n",
       "      <td>-6.191529</td>\n",
       "    </tr>\n",
       "  </tbody>\n",
       "</table>\n",
       "<p>5 rows × 633 columns</p>\n",
       "</div>"
      ],
      "text/plain": [
       "   freq_qid1  freq_qid2  q1len  q2len  q1_n_words  q2_n_words  word_Common  \\\n",
       "0          1          1     44     28           7           4            4   \n",
       "1          1          1     32     36           6           8            6   \n",
       "2          1          1     26     19           4           5            2   \n",
       "3          1          1     92     33          17           6            3   \n",
       "4          1          1     49     32          11           7            1   \n",
       "\n",
       "   word_Total  word_share  freq_q1+q2  ...      290_y      291_y     292_y  \\\n",
       "0           7    0.571429           2  ...  -5.044432   3.007079 -5.889633   \n",
       "1           8    0.750000           2  ...  -3.676359   1.047990  1.463157   \n",
       "2           7    0.285714           2  ...   7.380829  10.292572  6.021719   \n",
       "3          18    0.166667           2  ...  -3.998555   2.598721 -1.135953   \n",
       "4          16    0.062500           2  ... -17.373996  -3.145884 -7.620707   \n",
       "\n",
       "      293_y      294_y     295_y     296_y     297_y     298_y     299_y  \n",
       "0 -3.883241   3.347128  0.474625 -3.029122  3.732358 -1.812029  3.502651  \n",
       "1 -3.584772   3.228704  4.496219 -5.064294 -1.717365  2.398764 -0.124639  \n",
       "2  5.801611   2.975979  0.503108  1.746911 -8.484473  2.814592 -1.513171  \n",
       "3 -7.893859  10.526262  4.689528 -7.011284  2.741728 -8.582288 -0.659952  \n",
       "4 -7.286170  -1.247638 -3.290588  0.733282  0.762949  4.327167 -6.191529  \n",
       "\n",
       "[5 rows x 633 columns]"
      ]
     },
     "execution_count": 15,
     "metadata": {},
     "output_type": "execute_result"
    }
   ],
   "source": [
    "# Check for NA Values\n",
    "if df.isna().any().any():\n",
    "    print(\"NA Values Present\")\n",
    "else:\n",
    "    print(\"No NA Values Present\")\n",
    "y_true = list(map(int, y_true.values))\n",
    "df.head()"
   ]
  },
  {
   "cell_type": "markdown",
   "metadata": {},
   "source": [
    "## Splitting into Train and Test Data"
   ]
  },
  {
   "cell_type": "code",
   "execution_count": null,
   "metadata": {},
   "outputs": [
    {
     "name": "stdout",
     "output_type": "stream",
     "text": [
      "Size of Data Splits:\n",
      "  Data Split   Size\n",
      "0    X_train  84893\n",
      "1     X_test  36383\n",
      "2    y_train  84893\n",
      "3     y_test  36383\n",
      "Head of X_train:\n",
      "        freq_qid1  freq_qid2  q1len  q2len  q1_n_words  q2_n_words  \\\n",
      "82509           1          3     45     41           7           6   \n",
      "54955           1          1     39     34           8           8   \n",
      "58220           1          1     54     43          11          10   \n",
      "19176           1          1     68     87          12          17   \n",
      "100509          1          1     83     82          16          16   \n",
      "\n",
      "        word_Common  word_Total  word_share  freq_q1+q2  ...      290_y  \\\n",
      "82509             5           8    0.625000           4  ...  -5.497596   \n",
      "54955             6          10    0.600000           2  ... -16.046266   \n",
      "58220             6          15    0.400000           2  ...   6.716348   \n",
      "19176             5          22    0.227273           2  ... -22.572340   \n",
      "100509           12          14    0.857143           2  ...  -7.328760   \n",
      "\n",
      "            291_y      292_y     293_y      294_y      295_y     296_y  \\\n",
      "82509    3.156724 -10.748085 -6.613886   2.701786   0.451150  2.114319   \n",
      "54955    0.053280  -3.520201  5.206703   2.570796   1.672515  0.387719   \n",
      "58220   -3.792553   3.238109 -8.979480  -1.073928   6.106792  2.335810   \n",
      "19176   21.907588   1.664907 -8.662210  17.163371 -17.705743 -3.045018   \n",
      "100509   9.215191  -1.432293 -9.315727  -5.991517   3.815718 -6.602207   \n",
      "\n",
      "            297_y     298_y      299_y  \n",
      "82509   10.536709  9.844533  -7.579752  \n",
      "54955    7.140177 -6.412265  12.427627  \n",
      "58220   -4.460161  7.068043   4.965261  \n",
      "19176   -4.812193 -7.193563  20.636079  \n",
      "100509   4.771369 -1.147560   0.135579  \n",
      "\n",
      "[5 rows x 633 columns]\n",
      "\n",
      "Head of X_test:\n",
      "        freq_qid1  freq_qid2  q1len  q2len  q1_n_words  q2_n_words  \\\n",
      "39261           1          1     70     49          13          10   \n",
      "34450           1          1     95     39          21           8   \n",
      "59428           1          1     70     84          14          16   \n",
      "31101           1          1     21     34           5           8   \n",
      "104461          1          1     70     59          16          14   \n",
      "\n",
      "        word_Common  word_Total  word_share  freq_q1+q2  ...      290_y  \\\n",
      "39261             2          21    0.095238           2  ... -18.611388   \n",
      "34450             3          22    0.136364           2  ...  -8.411617   \n",
      "59428             6          22    0.272727           2  ...  -6.349253   \n",
      "31101             4           9    0.444444           2  ...  -5.052724   \n",
      "104461            8          20    0.400000           2  ...   5.075128   \n",
      "\n",
      "            291_y      292_y      293_y      294_y     295_y      296_y  \\\n",
      "39261    4.833611  22.680507   8.608966  -6.196161 -7.111610   5.663107   \n",
      "34450    0.976480  -7.989012  -8.969190   0.353321  4.161849   2.393441   \n",
      "59428    2.229837 -15.768528  -4.270568  10.240540  5.224733 -14.788452   \n",
      "31101   -2.426583   5.148993 -16.429987  -5.235728 -2.415389  -7.932021   \n",
      "104461  16.847049  -0.010772   3.063815  -6.834599  7.325190   9.089234   \n",
      "\n",
      "           297_y      298_y      299_y  \n",
      "39261   4.235033  -1.180642   5.552091  \n",
      "34450  -2.185494  -3.889380  -2.566320  \n",
      "59428  -2.551440  -1.427950   6.600887  \n",
      "31101   2.992355  -2.007054   3.992347  \n",
      "104461  3.850083 -11.433341  20.053059  \n",
      "\n",
      "[5 rows x 633 columns]\n",
      "\n",
      "Head of y_train:\n",
      "   0\n",
      "0  1\n",
      "1  0\n",
      "2  0\n",
      "3  0\n",
      "4  1\n",
      "\n",
      "Head of y_test:\n",
      "   0\n",
      "0  0\n",
      "1  0\n",
      "2  0\n",
      "3  0\n",
      "4  1\n"
     ]
    }
   ],
   "source": [
    "\n",
    "X_train, X_test, y_train, y_test = train_test_split(\n",
    "    df, \n",
    "    y_true, \n",
    "    stratify=y_true, \n",
    "    test_size=0.3, \n",
    "    random_state=42 \n",
    ")\n",
    "X_train = pd.DataFrame(X_train)\n",
    "X_test = pd.DataFrame(X_test)\n",
    "y_train = pd.DataFrame(y_train)\n",
    "y_test = pd.DataFrame(y_test)\n",
    "split_sizes = pd.DataFrame({\n",
    "    'Data Split': ['X_train', 'X_test', 'y_train', 'y_test'],\n",
    "    'Size': [X_train.shape[0], X_test.shape[0], y_train.shape[0], y_test.shape[0]]\n",
    "})\n",
    "print(\"Size of Data Splits:\")\n",
    "print(split_sizes)\n",
    "print(\"Head of X_train:\")\n",
    "print(X_train.head())\n",
    "print(\"\\nHead of X_test:\")\n",
    "print(X_test.head())\n",
    "\n",
    "print(\"\\nHead of y_train:\")\n",
    "print(y_train.head())\n",
    "print(\"\\nHead of y_test:\")\n",
    "print(y_test.head())"
   ]
  },
  {
   "cell_type": "markdown",
   "metadata": {},
   "source": [
    "## Distribution of Output Variable in Train and Test Data"
   ]
  },
  {
   "cell_type": "code",
   "execution_count": 111,
   "metadata": {},
   "outputs": [
    {
     "data": {
      "image/png": "[encoded data removed]",
      "text/plain": [
       "<Figure size 1200x600 with 2 Axes>"
      ]
     },
     "metadata": {},
     "output_type": "display_data"
    }
   ],
   "source": [
    "# Plotting the distribution of the output variable in train data\n",
    "plt.figure(figsize=(12, 6))\n",
    "plt.subplot(1, 2, 1)\n",
    "sns.countplot(x=y_train.iloc[:, 0])\n",
    "plt.title('Distribution of Output Variable in Train Data')\n",
    "\n",
    "# Plotting the distribution of the output variable in test data\n",
    "plt.subplot(1, 2, 2)\n",
    "sns.countplot(x=y_test.iloc[:, 0])\n",
    "plt.title('Distribution of Output Variable in Test Data')\n",
    "\n",
    "plt.show()"
   ]
  },
  {
   "cell_type": "markdown",
   "metadata": {},
   "source": [
    "## Logistic Regression ----> Baseline Model"
   ]
  },
  {
   "cell_type": "code",
   "execution_count": null,
   "metadata": {},
   "outputs": [],
   "source": [
    "from sklearn.linear_model import LogisticRegression\n",
    "from sklearn.metrics import accuracy_score, confusion_matrix, ConfusionMatrixDisplay\n",
    "import matplotlib.pyplot as plt\n",
    "\n",
    "def logistic_regression_function(X_train, X_test, y_train, y_test):\n",
    "    logreg_model = LogisticRegression(random_state=42)\n",
    "    logreg_model.fit(X_train, y_train)\n",
    "    train_predictions = logreg_model.predict(X_train)\n",
    "    test_predictions = logreg_model.predict(X_test)\n",
    "    train_accuracy = accuracy_score(y_train, train_predictions)\n",
    "    test_accuracy = accuracy_score(y_test, test_predictions)\n",
    "    print(f'Train Accuracy: {train_accuracy:.5f}')\n",
    "    print(f'Test Accuracy: {test_accuracy:.5f}')\n",
    "    # Display confusion matrix\n",
    "    cm = confusion_matrix(y_test, test_predictions)\n",
    "    disp = ConfusionMatrixDisplay(confusion_matrix=cm, display_labels=logreg_model.classes_)\n",
    "    disp.plot(cmap='Blues', values_format='d')\n",
    "    plt.title('Confusion Matrix')\n",
    "    plt.show()"
   ]
  },
  {
   "cell_type": "code",
   "execution_count": 117,
   "metadata": {},
   "outputs": [
    {
     "name": "stdout",
     "output_type": "stream",
     "text": [
      "Train Accuracy: 0.76870\n",
      "Test Accuracy: 0.76137\n"
     ]
    },
    {
     "data": {
      "image/png": "[encoded data removed]",
      "text/plain": [
       "<Figure size 640x480 with 2 Axes>"
      ]
     },
     "metadata": {},
     "output_type": "display_data"
    }
   ],
   "source": [
    "logistic_regression_function(X_train, X_test, y_train, y_test)"
   ]
  },
  {
   "cell_type": "markdown",
   "metadata": {},
   "source": [
    "## XGBoost for prediction </br>"
   ]
  },
  {
   "cell_type": "code",
   "execution_count": null,
   "metadata": {},
   "outputs": [],
   "source": [
    "from xgboost import XGBClassifier\n",
    "from sklearn.model_selection import RandomizedSearchCV\n",
    "from sklearn.metrics import accuracy_score, confusion_matrix, ConfusionMatrixDisplay\n",
    "import matplotlib.pyplot as plt\n",
    "from tqdm import tqdm\n",
    "\n",
    "def xgboost_random_search_gpu(X_train, X_test, y_train, y_test):\n",
    "    param_dist = {\n",
    "        'n_estimators': [50, 100, 150, 200],\n",
    "        'learning_rate': [0.01, 0.1, 0.2, 0.3],\n",
    "        'max_depth': [3, 5, 7, 9],\n",
    "        'subsample': [0.5, 0.7, 0.9, 1.0],\n",
    "        'colsample_bytree': [0.5, 0.7, 0.9, 1.0],\n",
    "        'gamma': [0, 0.1, 0.2, 0.3],\n",
    "        'tree_method': ['gpu_hist'],\n",
    "        'gpu_id': [0]\n",
    "    }\n",
    "\n",
    "    xgb_clf = XGBClassifier(random_state=42, tree_method='gpu_hist', gpu_id=0)\n",
    "    random_search = RandomizedSearchCV(\n",
    "        xgb_clf,\n",
    "        param_distributions=param_dist,\n",
    "        scoring='accuracy',  \n",
    "        n_iter=10,  \n",
    "        cv=5,\n",
    "        n_jobs=1,\n",
    "        verbose=10\n",
    "    )\n",
    "    random_search.fit(X_train, y_train)\n",
    "    print(\"Best Parameters:\", random_search.best_params_)\n",
    "    best_model = random_search.best_estimator_\n",
    "    train_pred = best_model.predict(X_train)\n",
    "    test_pred = best_model.predict(X_test)\n",
    "    train_accuracy = accuracy_score(y_train, train_pred)\n",
    "    test_accuracy = accuracy_score(y_test, test_pred)\n",
    "    print(f'Train Accuracy: {train_accuracy:.5f}')\n",
    "    print(f'Test Accuracy: {test_accuracy:.5f}')\n",
    "    cm = confusion_matrix(y_test, test_pred)\n",
    "    disp = ConfusionMatrixDisplay(confusion_matrix=cm, display_labels=best_model.classes_)\n",
    "    disp.plot(cmap='Blues', values_format='d')\n",
    "    plt.title('Confusion Matrix')\n",
    "    plt.show()"
   ]
  },
  {
   "cell_type": "code",
   "execution_count": 121,
   "metadata": {},
   "outputs": [
    {
     "name": "stdout",
     "output_type": "stream",
     "text": [
      "Fitting 3 folds for each of 10 candidates, totalling 30 fits\n",
      "[CV 1/3; 1/10] START colsample_bytree=0.5, gamma=0.1, gpu_id=0, learning_rate=0.01, max_depth=3, n_estimators=200, subsample=0.9, tree_method=gpu_hist\n",
      "[CV 1/3; 1/10] END colsample_bytree=0.5, gamma=0.1, gpu_id=0, learning_rate=0.01, max_depth=3, n_estimators=200, subsample=0.9, tree_method=gpu_hist;, score=0.775 total time=   3.5s\n",
      "[CV 2/3; 1/10] START colsample_bytree=0.5, gamma=0.1, gpu_id=0, learning_rate=0.01, max_depth=3, n_estimators=200, subsample=0.9, tree_method=gpu_hist\n",
      "[CV 2/3; 1/10] END colsample_bytree=0.5, gamma=0.1, gpu_id=0, learning_rate=0.01, max_depth=3, n_estimators=200, subsample=0.9, tree_method=gpu_hist;, score=0.775 total time=   2.8s\n",
      "[CV 3/3; 1/10] START colsample_bytree=0.5, gamma=0.1, gpu_id=0, learning_rate=0.01, max_depth=3, n_estimators=200, subsample=0.9, tree_method=gpu_hist\n",
      "[CV 3/3; 1/10] END colsample_bytree=0.5, gamma=0.1, gpu_id=0, learning_rate=0.01, max_depth=3, n_estimators=200, subsample=0.9, tree_method=gpu_hist;, score=0.780 total time=   3.0s\n",
      "[CV 1/3; 2/10] START colsample_bytree=0.7, gamma=0.2, gpu_id=0, learning_rate=0.3, max_depth=7, n_estimators=200, subsample=0.9, tree_method=gpu_hist\n",
      "[CV 1/3; 2/10] END colsample_bytree=0.7, gamma=0.2, gpu_id=0, learning_rate=0.3, max_depth=7, n_estimators=200, subsample=0.9, tree_method=gpu_hist;, score=0.820 total time=   5.2s\n",
      "[CV 2/3; 2/10] START colsample_bytree=0.7, gamma=0.2, gpu_id=0, learning_rate=0.3, max_depth=7, n_estimators=200, subsample=0.9, tree_method=gpu_hist\n",
      "[CV 2/3; 2/10] END colsample_bytree=0.7, gamma=0.2, gpu_id=0, learning_rate=0.3, max_depth=7, n_estimators=200, subsample=0.9, tree_method=gpu_hist;, score=0.819 total time=   5.5s\n",
      "[CV 3/3; 2/10] START colsample_bytree=0.7, gamma=0.2, gpu_id=0, learning_rate=0.3, max_depth=7, n_estimators=200, subsample=0.9, tree_method=gpu_hist\n",
      "[CV 3/3; 2/10] END colsample_bytree=0.7, gamma=0.2, gpu_id=0, learning_rate=0.3, max_depth=7, n_estimators=200, subsample=0.9, tree_method=gpu_hist;, score=0.822 total time=   5.1s\n",
      "[CV 1/3; 3/10] START colsample_bytree=1.0, gamma=0.3, gpu_id=0, learning_rate=0.1, max_depth=3, n_estimators=150, subsample=0.5, tree_method=gpu_hist\n",
      "[CV 1/3; 3/10] END colsample_bytree=1.0, gamma=0.3, gpu_id=0, learning_rate=0.1, max_depth=3, n_estimators=150, subsample=0.5, tree_method=gpu_hist;, score=0.804 total time=   2.3s\n",
      "[CV 2/3; 3/10] START colsample_bytree=1.0, gamma=0.3, gpu_id=0, learning_rate=0.1, max_depth=3, n_estimators=150, subsample=0.5, tree_method=gpu_hist\n",
      "[CV 2/3; 3/10] END colsample_bytree=1.0, gamma=0.3, gpu_id=0, learning_rate=0.1, max_depth=3, n_estimators=150, subsample=0.5, tree_method=gpu_hist;, score=0.805 total time=   2.4s\n",
      "[CV 3/3; 3/10] START colsample_bytree=1.0, gamma=0.3, gpu_id=0, learning_rate=0.1, max_depth=3, n_estimators=150, subsample=0.5, tree_method=gpu_hist\n",
      "[CV 3/3; 3/10] END colsample_bytree=1.0, gamma=0.3, gpu_id=0, learning_rate=0.1, max_depth=3, n_estimators=150, subsample=0.5, tree_method=gpu_hist;, score=0.807 total time=   2.3s\n",
      "[CV 1/3; 4/10] START colsample_bytree=0.9, gamma=0.2, gpu_id=0, learning_rate=0.3, max_depth=9, n_estimators=50, subsample=1.0, tree_method=gpu_hist\n",
      "[CV 1/3; 4/10] END colsample_bytree=0.9, gamma=0.2, gpu_id=0, learning_rate=0.3, max_depth=9, n_estimators=50, subsample=1.0, tree_method=gpu_hist;, score=0.812 total time=   3.7s\n",
      "[CV 2/3; 4/10] START colsample_bytree=0.9, gamma=0.2, gpu_id=0, learning_rate=0.3, max_depth=9, n_estimators=50, subsample=1.0, tree_method=gpu_hist\n",
      "[CV 2/3; 4/10] END colsample_bytree=0.9, gamma=0.2, gpu_id=0, learning_rate=0.3, max_depth=9, n_estimators=50, subsample=1.0, tree_method=gpu_hist;, score=0.814 total time=   4.0s\n",
      "[CV 3/3; 4/10] START colsample_bytree=0.9, gamma=0.2, gpu_id=0, learning_rate=0.3, max_depth=9, n_estimators=50, subsample=1.0, tree_method=gpu_hist\n",
      "[CV 3/3; 4/10] END colsample_bytree=0.9, gamma=0.2, gpu_id=0, learning_rate=0.3, max_depth=9, n_estimators=50, subsample=1.0, tree_method=gpu_hist;, score=0.814 total time=   4.1s\n",
      "[CV 1/3; 5/10] START colsample_bytree=0.5, gamma=0, gpu_id=0, learning_rate=0.01, max_depth=3, n_estimators=200, subsample=0.7, tree_method=gpu_hist\n",
      "[CV 1/3; 5/10] END colsample_bytree=0.5, gamma=0, gpu_id=0, learning_rate=0.01, max_depth=3, n_estimators=200, subsample=0.7, tree_method=gpu_hist;, score=0.775 total time=   2.8s\n",
      "[CV 2/3; 5/10] START colsample_bytree=0.5, gamma=0, gpu_id=0, learning_rate=0.01, max_depth=3, n_estimators=200, subsample=0.7, tree_method=gpu_hist\n",
      "[CV 2/3; 5/10] END colsample_bytree=0.5, gamma=0, gpu_id=0, learning_rate=0.01, max_depth=3, n_estimators=200, subsample=0.7, tree_method=gpu_hist;, score=0.775 total time=   2.9s\n",
      "[CV 3/3; 5/10] START colsample_bytree=0.5, gamma=0, gpu_id=0, learning_rate=0.01, max_depth=3, n_estimators=200, subsample=0.7, tree_method=gpu_hist\n",
      "[CV 3/3; 5/10] END colsample_bytree=0.5, gamma=0, gpu_id=0, learning_rate=0.01, max_depth=3, n_estimators=200, subsample=0.7, tree_method=gpu_hist;, score=0.781 total time=   3.0s\n",
      "[CV 1/3; 6/10] START colsample_bytree=0.7, gamma=0, gpu_id=0, learning_rate=0.3, max_depth=5, n_estimators=200, subsample=1.0, tree_method=gpu_hist\n",
      "[CV 1/3; 6/10] END colsample_bytree=0.7, gamma=0, gpu_id=0, learning_rate=0.3, max_depth=5, n_estimators=200, subsample=1.0, tree_method=gpu_hist;, score=0.815 total time=   3.5s\n",
      "[CV 2/3; 6/10] START colsample_bytree=0.7, gamma=0, gpu_id=0, learning_rate=0.3, max_depth=5, n_estimators=200, subsample=1.0, tree_method=gpu_hist\n",
      "[CV 2/3; 6/10] END colsample_bytree=0.7, gamma=0, gpu_id=0, learning_rate=0.3, max_depth=5, n_estimators=200, subsample=1.0, tree_method=gpu_hist;, score=0.814 total time=   3.8s\n",
      "[CV 3/3; 6/10] START colsample_bytree=0.7, gamma=0, gpu_id=0, learning_rate=0.3, max_depth=5, n_estimators=200, subsample=1.0, tree_method=gpu_hist\n",
      "[CV 3/3; 6/10] END colsample_bytree=0.7, gamma=0, gpu_id=0, learning_rate=0.3, max_depth=5, n_estimators=200, subsample=1.0, tree_method=gpu_hist;, score=0.821 total time=   3.2s\n",
      "[CV 1/3; 7/10] START colsample_bytree=0.7, gamma=0.3, gpu_id=0, learning_rate=0.01, max_depth=7, n_estimators=150, subsample=0.5, tree_method=gpu_hist\n",
      "[CV 1/3; 7/10] END colsample_bytree=0.7, gamma=0.3, gpu_id=0, learning_rate=0.01, max_depth=7, n_estimators=150, subsample=0.5, tree_method=gpu_hist;, score=0.794 total time=   4.2s\n",
      "[CV 2/3; 7/10] START colsample_bytree=0.7, gamma=0.3, gpu_id=0, learning_rate=0.01, max_depth=7, n_estimators=150, subsample=0.5, tree_method=gpu_hist\n",
      "[CV 2/3; 7/10] END colsample_bytree=0.7, gamma=0.3, gpu_id=0, learning_rate=0.01, max_depth=7, n_estimators=150, subsample=0.5, tree_method=gpu_hist;, score=0.795 total time=   4.3s\n",
      "[CV 3/3; 7/10] START colsample_bytree=0.7, gamma=0.3, gpu_id=0, learning_rate=0.01, max_depth=7, n_estimators=150, subsample=0.5, tree_method=gpu_hist\n",
      "[CV 3/3; 7/10] END colsample_bytree=0.7, gamma=0.3, gpu_id=0, learning_rate=0.01, max_depth=7, n_estimators=150, subsample=0.5, tree_method=gpu_hist;, score=0.800 total time=   4.2s\n",
      "[CV 1/3; 8/10] START colsample_bytree=0.5, gamma=0, gpu_id=0, learning_rate=0.01, max_depth=7, n_estimators=100, subsample=0.9, tree_method=gpu_hist\n",
      "[CV 1/3; 8/10] END colsample_bytree=0.5, gamma=0, gpu_id=0, learning_rate=0.01, max_depth=7, n_estimators=100, subsample=0.9, tree_method=gpu_hist;, score=0.788 total time=   3.2s\n",
      "[CV 2/3; 8/10] START colsample_bytree=0.5, gamma=0, gpu_id=0, learning_rate=0.01, max_depth=7, n_estimators=100, subsample=0.9, tree_method=gpu_hist\n",
      "[CV 2/3; 8/10] END colsample_bytree=0.5, gamma=0, gpu_id=0, learning_rate=0.01, max_depth=7, n_estimators=100, subsample=0.9, tree_method=gpu_hist;, score=0.784 total time=   3.3s\n",
      "[CV 3/3; 8/10] START colsample_bytree=0.5, gamma=0, gpu_id=0, learning_rate=0.01, max_depth=7, n_estimators=100, subsample=0.9, tree_method=gpu_hist\n",
      "[CV 3/3; 8/10] END colsample_bytree=0.5, gamma=0, gpu_id=0, learning_rate=0.01, max_depth=7, n_estimators=100, subsample=0.9, tree_method=gpu_hist;, score=0.792 total time=   3.3s\n",
      "[CV 1/3; 9/10] START colsample_bytree=0.9, gamma=0.3, gpu_id=0, learning_rate=0.2, max_depth=5, n_estimators=100, subsample=0.9, tree_method=gpu_hist\n",
      "[CV 1/3; 9/10] END colsample_bytree=0.9, gamma=0.3, gpu_id=0, learning_rate=0.2, max_depth=5, n_estimators=100, subsample=0.9, tree_method=gpu_hist;, score=0.814 total time=   2.7s\n",
      "[CV 2/3; 9/10] START colsample_bytree=0.9, gamma=0.3, gpu_id=0, learning_rate=0.2, max_depth=5, n_estimators=100, subsample=0.9, tree_method=gpu_hist\n",
      "[CV 2/3; 9/10] END colsample_bytree=0.9, gamma=0.3, gpu_id=0, learning_rate=0.2, max_depth=5, n_estimators=100, subsample=0.9, tree_method=gpu_hist;, score=0.813 total time=   2.8s\n",
      "[CV 3/3; 9/10] START colsample_bytree=0.9, gamma=0.3, gpu_id=0, learning_rate=0.2, max_depth=5, n_estimators=100, subsample=0.9, tree_method=gpu_hist\n",
      "[CV 3/3; 9/10] END colsample_bytree=0.9, gamma=0.3, gpu_id=0, learning_rate=0.2, max_depth=5, n_estimators=100, subsample=0.9, tree_method=gpu_hist;, score=0.816 total time=   2.9s\n",
      "[CV 1/3; 10/10] START colsample_bytree=0.9, gamma=0.1, gpu_id=0, learning_rate=0.2, max_depth=9, n_estimators=50, subsample=0.7, tree_method=gpu_hist\n",
      "[CV 1/3; 10/10] END colsample_bytree=0.9, gamma=0.1, gpu_id=0, learning_rate=0.2, max_depth=9, n_estimators=50, subsample=0.7, tree_method=gpu_hist;, score=0.810 total time=   4.0s\n",
      "[CV 2/3; 10/10] START colsample_bytree=0.9, gamma=0.1, gpu_id=0, learning_rate=0.2, max_depth=9, n_estimators=50, subsample=0.7, tree_method=gpu_hist\n",
      "[CV 2/3; 10/10] END colsample_bytree=0.9, gamma=0.1, gpu_id=0, learning_rate=0.2, max_depth=9, n_estimators=50, subsample=0.7, tree_method=gpu_hist;, score=0.810 total time=   4.4s\n",
      "[CV 3/3; 10/10] START colsample_bytree=0.9, gamma=0.1, gpu_id=0, learning_rate=0.2, max_depth=9, n_estimators=50, subsample=0.7, tree_method=gpu_hist\n",
      "[CV 3/3; 10/10] END colsample_bytree=0.9, gamma=0.1, gpu_id=0, learning_rate=0.2, max_depth=9, n_estimators=50, subsample=0.7, tree_method=gpu_hist;, score=0.813 total time=   3.7s\n",
      "Best Parameters: {'tree_method': 'gpu_hist', 'subsample': 0.9, 'n_estimators': 200, 'max_depth': 7, 'learning_rate': 0.3, 'gpu_id': 0, 'gamma': 0.2, 'colsample_bytree': 0.7}\n",
      "Train Accuracy: 0.99886\n",
      "Test Accuracy: 0.82481\n"
     ]
    },
    {
     "data": {
      "image/png": "[encoded data removed]",
      "text/plain": [
       "<Figure size 640x480 with 2 Axes>"
      ]
     },
     "metadata": {},
     "output_type": "display_data"
    }
   ],
   "source": [
    "xgboost_random_search_gpu(X_train, X_test, y_train, y_test)"
   ]
  },
  {
   "cell_type": "markdown",
   "metadata": {},
   "source": [
    "## Now Let's Try with Bert!"
   ]
  },
  {
   "cell_type": "code",
   "execution_count": null,
   "metadata": {},
   "outputs": [],
   "source": [
    "data = pd.read_csv('train.csv')\n",
    "\n",
    "data = data.dropna(subset=['question1', 'question2'])\n",
    "data = data[data['question1'].str.strip() != '']\n",
    "data = data[data['question2'].str.strip() != '']\n",
    "class_proportions = data['is_duplicate'].value_counts(normalize=True)\n",
    "sample_size = int(0.3 * len(data))\n",
    "stratified_sample = data.groupby('is_duplicate', group_keys=False).apply(\n",
    "    lambda x: x.sample(n=int(class_proportions[x.name] * sample_size), random_state=42)\n",
    ")\n",
    "stratified_sample = stratified_sample.reset_index(drop=True)\n",
    "\n",
    "# Splitting dataset into train, validation, and test sets\n",
    "train_val, test = train_test_split(stratified_sample, test_size=0.2, stratify=stratified_sample['is_duplicate'], random_state=42)\n",
    "train, val = train_test_split(train_val, test_size=0.2, stratify=train_val['is_duplicate'], random_state=42)"
   ]
  },
  {
   "cell_type": "code",
   "execution_count": null,
   "metadata": {},
   "outputs": [
    {
     "name": "stdout",
     "output_type": "stream",
     "text": [
      "Using device: cuda\n",
      "BERT model and tokenizer loaded\n",
      "Siamese BERT model created\n",
      "Datasets prepared\n",
      "Data loaders created\n",
      "Optimizer, loss function, and scheduler defined\n",
      "Starting epoch 1\n",
      "Epoch 1, Train Loss: 0.0682, Val Loss: 0.0730, Val Correlation: 0.4695\n",
      "New best model saved\n",
      "Starting epoch 2\n",
      "Epoch 2, Train Loss: 0.0516, Val Loss: 0.0646, Val Correlation: 0.5258\n",
      "New best model saved\n",
      "Starting epoch 3\n",
      "Epoch 3, Train Loss: 0.0464, Val Loss: 0.0597, Val Correlation: 0.5492\n",
      "New best model saved\n",
      "Starting epoch 4\n",
      "Epoch 4, Train Loss: 0.0417, Val Loss: 0.0562, Val Correlation: 0.5779\n",
      "New best model saved\n",
      "Starting epoch 5\n",
      "Epoch 5, Train Loss: 0.0371, Val Loss: 0.0561, Val Correlation: 0.5964\n",
      "New best model saved\n",
      "Starting epoch 6\n",
      "Epoch 6, Train Loss: 0.0329, Val Loss: 0.0531, Val Correlation: 0.6017\n",
      "New best model saved\n",
      "Starting epoch 7\n",
      "Epoch 7, Train Loss: 0.0286, Val Loss: 0.0546, Val Correlation: 0.6102\n",
      "New best model saved\n",
      "Starting epoch 8\n",
      "Epoch 8, Train Loss: 0.0246, Val Loss: 0.0520, Val Correlation: 0.6036\n",
      "Starting epoch 9\n",
      "Epoch 9, Train Loss: 0.0207, Val Loss: 0.0526, Val Correlation: 0.6096\n",
      "Starting epoch 10\n",
      "Epoch 10, Train Loss: 0.0177, Val Loss: 0.0545, Val Correlation: 0.6195\n",
      "New best model saved\n"
     ]
    },
    {
     "name": "stderr",
     "output_type": "stream",
     "text": [
      "/tmp/ipykernel_6134/2125883191.py:163: FutureWarning: You are using `torch.load` with `weights_only=False` (the current default value), which uses the default pickle module implicitly. It is possible to construct malicious pickle data which will execute arbitrary code during unpickling (See https://github.com/pytorch/pytorch/blob/main/SECURITY.md#untrusted-models for more details). In a future release, the default value for `weights_only` will be flipped to `True`. This limits the functions that could be executed during unpickling. Arbitrary objects will no longer be allowed to be loaded via this mode unless they are explicitly allowlisted by the user via `torch.serialization.add_safe_globals`. We recommend you start setting `weights_only=True` for any use case where you don't have full control of the loaded file. Please open an issue on GitHub for any issues related to this experimental feature.\n",
      "  siamese_bert.load_state_dict(torch.load('best_siamese_bert_model.pth'))\n"
     ]
    },
    {
     "name": "stdout",
     "output_type": "stream",
     "text": [
      "Test Loss: 0.0548, Test Correlation: 0.6199\n",
      "Question 1: How to lose weight?\n",
      "Question 2: How to lose weight?\n",
      "Similarity: 0.9999999701976776\n"
     ]
    }
   ],
   "source": [
    "os.environ[\"PYTORCH_CUDA_ALLOC_CONF\"] = \"expandable_segments:True\"\n",
    "\n",
    "device = torch.device(\"cuda\" if torch.cuda.is_available() else \"cpu\")\n",
    "print(f\"Using device: {device}\")\n",
    "\n",
    "# Load pre-trained BERT model and tokenizer\n",
    "bert_model = BertModel.from_pretrained('bert-base-uncased')\n",
    "tokenizer = BertTokenizer.from_pretrained('bert-base-uncased')\n",
    "print(\"BERT model and tokenizer loaded\")\n",
    "\n",
    "# Define Siamese BERT model\n",
    "class SiameseBERT(nn.Module):\n",
    "    def __init__(self):\n",
    "        super(SiameseBERT, self).__init__()\n",
    "        self.bert = bert_model\n",
    "        self.fc = nn.Sequential(\n",
    "            nn.Linear(768, 256),\n",
    "            nn.ReLU(),\n",
    "            nn.Linear(256, 128)\n",
    "        )\n",
    "\n",
    "    def forward(self, input1, input2):\n",
    "        embed1 = self.fc(self.bert(**input1)[1])\n",
    "        embed2 = self.fc(self.bert(**input2)[1])\n",
    "        cos_sim = F.cosine_similarity(embed1, embed2)\n",
    "        return cos_sim\n",
    "\n",
    "# Create model instance\n",
    "siamese_bert = SiameseBERT().to(device)\n",
    "print(\"Siamese BERT model created\")\n",
    "\n",
    "# Tokenization and encoding function\n",
    "def tokenize_and_encode(texts, text_pairs=None, max_length=128):\n",
    "    if text_pairs:\n",
    "        return tokenizer(texts, text_pairs, padding='max_length', truncation=True, max_length=max_length, return_tensors='pt')\n",
    "    else:\n",
    "        return tokenizer(texts, padding='max_length', truncation=True, max_length=max_length, return_tensors='pt')\n",
    "\n",
    "# Data augmentation\n",
    "aug = SynonymAug(aug_src='wordnet')\n",
    "\n",
    "def augment_question(question):\n",
    "    augmented = aug.augment(question)\n",
    "    return augmented if augmented else question\n",
    "\n",
    "# Prepare datasets\n",
    "def prepare_dataset(df):\n",
    "    encoded1 = tokenize_and_encode(df['question1'].tolist())\n",
    "    encoded2 = tokenize_and_encode(df['question2'].tolist())\n",
    "    labels = torch.tensor(df['is_duplicate'].values, dtype=torch.float32)\n",
    "    \n",
    "    # Augment data\n",
    "    augmented_q1 = [str(augment_question(q)) for q in df['question1'] if augment_question(q)]\n",
    "    augmented_q2 = [str(augment_question(q)) for q in df['question2'] if augment_question(q)]\n",
    "    encoded_aug1 = tokenize_and_encode(augmented_q1)\n",
    "    encoded_aug2 = tokenize_and_encode(augmented_q2)\n",
    "    \n",
    "    # Combine original and augmented data\n",
    "    combined_encoded1 = {k: torch.cat([encoded1[k], encoded_aug1[k]]) for k in encoded1.keys()}\n",
    "    combined_encoded2 = {k: torch.cat([encoded2[k], encoded_aug2[k]]) for k in encoded2.keys()}\n",
    "    combined_labels = torch.cat([labels, labels[:len(augmented_q1)]])\n",
    "    \n",
    "    return torch.utils.data.TensorDataset(\n",
    "        combined_encoded1['input_ids'], combined_encoded1['attention_mask'],\n",
    "        combined_encoded2['input_ids'], combined_encoded2['attention_mask'],\n",
    "        combined_labels\n",
    "    )\n",
    "\n",
    "train_dataset = prepare_dataset(train)\n",
    "val_dataset = prepare_dataset(val)\n",
    "test_dataset = prepare_dataset(test)\n",
    "print(\"Datasets prepared\")\n",
    "\n",
    "# Create data loaders\n",
    "train_loader = torch.utils.data.DataLoader(train_dataset, batch_size=32, shuffle=True)\n",
    "val_loader = torch.utils.data.DataLoader(val_dataset, batch_size=32)\n",
    "test_loader = torch.utils.data.DataLoader(test_dataset, batch_size=32)\n",
    "print(\"Data loaders created\")\n",
    "\n",
    "# Define optimizer, loss function, and scheduler\n",
    "optimizer = torch.optim.Adam(siamese_bert.parameters(), lr=2e-5)\n",
    "scheduler = ReduceLROnPlateau(optimizer, mode='max', factor=0.1, patience=2)\n",
    "\n",
    "class ContrastiveLoss(nn.Module):\n",
    "    def __init__(self, margin=0.5):\n",
    "        super(ContrastiveLoss, self).__init__()\n",
    "        self.margin = margin\n",
    "\n",
    "    def forward(self, output, label):\n",
    "        loss_contrastive = torch.mean((1-label) * torch.pow(output, 2) +\n",
    "                                      (label) * torch.pow(torch.clamp(self.margin - output, min=0.0), 2))\n",
    "        return loss_contrastive\n",
    "\n",
    "loss_fn = ContrastiveLoss()\n",
    "print(\"Optimizer, loss function, and scheduler defined\")\n",
    "\n",
    "# Training loop\n",
    "def train_model(model, loader, optimizer, loss_fn):\n",
    "    model.train()\n",
    "    total_loss = 0\n",
    "    for batch in loader:\n",
    "        input1 = {'input_ids': batch[0].to(device), 'attention_mask': batch[1].to(device)}\n",
    "        input2 = {'input_ids': batch[2].to(device), 'attention_mask': batch[3].to(device)}\n",
    "        labels = batch[4].to(device)\n",
    "        \n",
    "        optimizer.zero_grad()\n",
    "        outputs = model(input1, input2)\n",
    "        loss = loss_fn(outputs, labels)\n",
    "        loss.backward()\n",
    "        torch.nn.utils.clip_grad_norm_(model.parameters(), max_norm=1.0)\n",
    "        optimizer.step()\n",
    "        total_loss += loss.item()\n",
    "    return total_loss / len(loader)\n",
    "\n",
    "def evaluate(model, loader):\n",
    "    model.eval()\n",
    "    total_loss = 0\n",
    "    all_outputs = []\n",
    "    all_labels = []\n",
    "    with torch.no_grad():\n",
    "        for batch in loader:\n",
    "            input1 = {'input_ids': batch[0].to(device), 'attention_mask': batch[1].to(device)}\n",
    "            input2 = {'input_ids': batch[2].to(device), 'attention_mask': batch[3].to(device)}\n",
    "            labels = batch[4].to(device)\n",
    "            \n",
    "            outputs = model(input1, input2)\n",
    "            loss = loss_fn(outputs, labels)\n",
    "            total_loss += loss.item()\n",
    "            all_outputs.extend(outputs.cpu().numpy())\n",
    "            all_labels.extend(labels.cpu().numpy())\n",
    "    \n",
    "    # Calculate Spearman's rank correlation\n",
    "    from scipy.stats import spearmanr\n",
    "    correlation, _ = spearmanr(all_outputs, all_labels)\n",
    "    \n",
    "    return total_loss / len(loader), correlation\n",
    "\n",
    "# Train the model\n",
    "num_epochs = 10\n",
    "best_val_corr = 0\n",
    "for epoch in range(num_epochs):\n",
    "    print(f\"Starting epoch {epoch+1}\")\n",
    "    train_loss = train_model(siamese_bert, train_loader, optimizer, loss_fn)\n",
    "    val_loss, val_corr = evaluate(siamese_bert, val_loader)\n",
    "    print(f\"Epoch {epoch+1}, Train Loss: {train_loss:.4f}, Val Loss: {val_loss:.4f}, Val Correlation: {val_corr:.4f}\")\n",
    "    \n",
    "    scheduler.step(val_corr)\n",
    "    \n",
    "    if val_corr > best_val_corr:\n",
    "        best_val_corr = val_corr\n",
    "        torch.save(siamese_bert.state_dict(), 'best_siamese_bert_model.pth')\n",
    "        print(\"New best model saved\")\n",
    "\n",
    "# Evaluate on test set\n",
    "siamese_bert.load_state_dict(torch.load('best_siamese_bert_model.pth'))\n",
    "test_loss, test_corr = evaluate(siamese_bert, test_loader)\n",
    "print(f\"Test Loss: {test_loss:.4f}, Test Correlation: {test_corr:.4f}\")\n",
    "\n"
   ]
  },
  {
   "cell_type": "code",
   "execution_count": 2,
   "metadata": {},
   "outputs": [
    {
     "name": "stderr",
     "output_type": "stream",
     "text": [
      "/tmp/ipykernel_1923/530954623.py:19: FutureWarning: You are using `torch.load` with `weights_only=False` (the current default value), which uses the default pickle module implicitly. It is possible to construct malicious pickle data which will execute arbitrary code during unpickling (See https://github.com/pytorch/pytorch/blob/main/SECURITY.md#untrusted-models for more details). In a future release, the default value for `weights_only` will be flipped to `True`. This limits the functions that could be executed during unpickling. Arbitrary objects will no longer be allowed to be loaded via this mode unless they are explicitly allowlisted by the user via `torch.serialization.add_safe_globals`. We recommend you start setting `weights_only=True` for any use case where you don't have full control of the loaded file. Please open an issue on GitHub for any issues related to this experimental feature.\n",
      "  siamese_bert.load_state_dict(torch.load('best_siamese_bert_model.pth'))\n"
     ]
    }
   ],
   "source": [
    "device = torch.device(\"cuda\" if torch.cuda.is_available() else \"cpu\")\n",
    "bert_model = BertModel.from_pretrained('bert-base-uncased')\n",
    "tokenizer = BertTokenizer.from_pretrained('bert-base-uncased')\n",
    "class SiameseBERT(nn.Module):\n",
    "    def __init__(self):\n",
    "        super(SiameseBERT, self).__init__()\n",
    "        self.bert = bert_model\n",
    "        self.fc = nn.Sequential(\n",
    "            nn.Linear(768, 256),\n",
    "            nn.ReLU(),\n",
    "            nn.Linear(256, 128)\n",
    "        )\n",
    "    def forward(self, input1, input2):\n",
    "        embed1 = self.fc(self.bert(**input1)[1])\n",
    "        embed2 = self.fc(self.bert(**input2)[1])\n",
    "        cos_sim = F.cosine_similarity(embed1, embed2)\n",
    "        return cos_sim\n",
    "siamese_bert = SiameseBERT().to(device)\n",
    "siamese_bert.load_state_dict(torch.load('best_siamese_bert_model.pth'))\n",
    "siamese_bert.eval()\n",
    "def tokenize_and_encode(texts, max_length=128):\n",
    "    return tokenizer(texts, padding='max_length', truncation=True, max_length=max_length, return_tensors='pt')\n",
    "def predict_similarity(question1, question2):\n",
    "    encoded1 = tokenize_and_encode([question1])\n",
    "    encoded2 = tokenize_and_encode([question2])\n",
    "    input1 = {k: v.to(device) for k, v in encoded1.items()}\n",
    "    input2 = {k: v.to(device) for k, v in encoded2.items()}\n",
    "    with torch.no_grad():\n",
    "        similarity = siamese_bert(input1, input2)\n",
    "    return (similarity.item() + 1) / 2 "
   ]
  },
  {
   "cell_type": "code",
   "execution_count": 11,
   "metadata": {},
   "outputs": [
    {
     "name": "stdout",
     "output_type": "stream",
     "text": [
      "Question 1: How can I lose weight quickly? \n",
      "Question 2: What's the easiest way to lose weight\n",
      "Similarity: 0.526941355317831\n"
     ]
    }
   ],
   "source": [
    "q1 = \"How can I lose weight quickly? \"\n",
    "q2 = \"What's the easiest way to lose weight\"\n",
    "similarity = predict_similarity(q1, q2)\n",
    "print(f\"Question 1: {q1}\")\n",
    "print(f\"Question 2: {q2}\")\n",
    "print(f\"Similarity: {similarity}\")"
   ]
  }
 ],
 "metadata": {
  "kernelspec": {
   "display_name": "final",
   "language": "python",
   "name": "python3"
  },
  "language_info": {
   "codemirror_mode": {
    "name": "ipython",
    "version": 3
   },
   "file_extension": ".py",
   "mimetype": "text/x-python",
   "name": "python",
   "nbconvert_exporter": "python",
   "pygments_lexer": "ipython3",
   "version": "3.12.3"
  }
 },
 "nbformat": 4,
 "nbformat_minor": 2
}
